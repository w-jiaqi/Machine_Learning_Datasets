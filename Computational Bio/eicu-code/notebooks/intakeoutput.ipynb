{
 "cells": [
  {
   "cell_type": "markdown",
   "metadata": {},
   "source": [
    "# intakeOutput\n",
    "\n",
    "Intake and output recorded for patients. Entered from the nursing flowsheet (either manually or interfaced into the hospital system)."
   ]
  },
  {
   "cell_type": "code",
   "execution_count": 1,
   "metadata": {},
   "outputs": [
    {
     "name": "stderr",
     "output_type": "stream",
     "text": [
      "/home/alistairewj/.local/lib/python3.5/site-packages/psycopg2/__init__.py:144: UserWarning: The psycopg2 wheel package will be renamed from release 2.8; in order to keep installing from binary please use \"pip install psycopg2-binary\" instead. For details see: <http://initd.org/psycopg/docs/install.html#binary-install-from-pypi>.\n",
      "  \"\"\")\n"
     ]
    }
   ],
   "source": [
    "# Import libraries\n",
    "import numpy as np\n",
    "import pandas as pd\n",
    "import matplotlib.pyplot as plt\n",
    "import psycopg2\n",
    "import getpass\n",
    "import pdvega\n",
    "\n",
    "# for configuring connection \n",
    "from configobj import ConfigObj\n",
    "import os\n",
    "\n",
    "%matplotlib inline"
   ]
  },
  {
   "cell_type": "code",
   "execution_count": 2,
   "metadata": {},
   "outputs": [
    {
     "name": "stdout",
     "output_type": "stream",
     "text": [
      "Database: eicu\n",
      "Username: alistairewj\n"
     ]
    }
   ],
   "source": [
    "# Create a database connection using settings from config file\n",
    "config='../db/config.ini'\n",
    "\n",
    "# connection info\n",
    "conn_info = dict()\n",
    "if os.path.isfile(config):\n",
    "    config = ConfigObj(config)\n",
    "    conn_info[\"sqluser\"] = config['username']\n",
    "    conn_info[\"sqlpass\"] = config['password']\n",
    "    conn_info[\"sqlhost\"] = config['host']\n",
    "    conn_info[\"sqlport\"] = config['port']\n",
    "    conn_info[\"dbname\"] = config['dbname']\n",
    "    conn_info[\"schema_name\"] = config['schema_name']\n",
    "else:\n",
    "    conn_info[\"sqluser\"] = 'postgres'\n",
    "    conn_info[\"sqlpass\"] = ''\n",
    "    conn_info[\"sqlhost\"] = 'localhost'\n",
    "    conn_info[\"sqlport\"] = 5432\n",
    "    conn_info[\"dbname\"] = 'eicu'\n",
    "    conn_info[\"schema_name\"] = 'public,eicu_crd'\n",
    "    \n",
    "# Connect to the eICU database\n",
    "print('Database: {}'.format(conn_info['dbname']))\n",
    "print('Username: {}'.format(conn_info[\"sqluser\"]))\n",
    "if conn_info[\"sqlpass\"] == '':\n",
    "    # try connecting without password, i.e. peer or OS authentication\n",
    "    try:\n",
    "        if (conn_info[\"sqlhost\"] == 'localhost') & (conn_info[\"sqlport\"]=='5432'):\n",
    "            con = psycopg2.connect(dbname=conn_info[\"dbname\"],\n",
    "                                   user=conn_info[\"sqluser\"])            \n",
    "        else:\n",
    "            con = psycopg2.connect(dbname=conn_info[\"dbname\"],\n",
    "                                   host=conn_info[\"sqlhost\"],\n",
    "                                   port=conn_info[\"sqlport\"],\n",
    "                                   user=conn_info[\"sqluser\"])\n",
    "    except:\n",
    "        conn_info[\"sqlpass\"] = getpass.getpass('Password: ')\n",
    "\n",
    "        con = psycopg2.connect(dbname=conn_info[\"dbname\"],\n",
    "                               host=conn_info[\"sqlhost\"],\n",
    "                               port=conn_info[\"sqlport\"],\n",
    "                               user=conn_info[\"sqluser\"],\n",
    "                               password=conn_info[\"sqlpass\"])\n",
    "query_schema = 'set search_path to ' + conn_info['schema_name'] + ';'"
   ]
  },
  {
   "cell_type": "markdown",
   "metadata": {},
   "source": [
    "## Examine a single patient"
   ]
  },
  {
   "cell_type": "code",
   "execution_count": 4,
   "metadata": {},
   "outputs": [],
   "source": [
    "patientunitstayid = 242380"
   ]
  },
  {
   "cell_type": "code",
   "execution_count": 11,
   "metadata": {
    "scrolled": true
   },
   "outputs": [
    {
     "data": {
      "text/html": [
       "<div>\n",
       "<style scoped>\n",
       "    .dataframe tbody tr th:only-of-type {\n",
       "        vertical-align: middle;\n",
       "    }\n",
       "\n",
       "    .dataframe tbody tr th {\n",
       "        vertical-align: top;\n",
       "    }\n",
       "\n",
       "    .dataframe thead th {\n",
       "        text-align: right;\n",
       "    }\n",
       "</style>\n",
       "<table border=\"1\" class=\"dataframe\">\n",
       "  <thead>\n",
       "    <tr style=\"text-align: right;\">\n",
       "      <th></th>\n",
       "      <th>patientunitstayid</th>\n",
       "      <th>intakeoutputid</th>\n",
       "      <th>intakeoutputyear</th>\n",
       "      <th>intakeoutputtime24</th>\n",
       "      <th>intakeoutputtime</th>\n",
       "      <th>intakeoutputoffset</th>\n",
       "      <th>intaketotal</th>\n",
       "      <th>outputtotal</th>\n",
       "      <th>dialysistotal</th>\n",
       "      <th>nettotal</th>\n",
       "      <th>intakeoutputentryyear</th>\n",
       "      <th>intakeoutputentrytime24</th>\n",
       "      <th>intakeoutputentrytime</th>\n",
       "      <th>intakeoutputentryoffset</th>\n",
       "      <th>cellpath</th>\n",
       "      <th>celllabel</th>\n",
       "      <th>cellvaluenumeric</th>\n",
       "      <th>cellvaluetext</th>\n",
       "    </tr>\n",
       "  </thead>\n",
       "  <tbody>\n",
       "    <tr>\n",
       "      <th>0</th>\n",
       "      <td>242380</td>\n",
       "      <td>17914026</td>\n",
       "      <td>2015</td>\n",
       "      <td>11:00:00</td>\n",
       "      <td>noon</td>\n",
       "      <td>-181</td>\n",
       "      <td>0.0</td>\n",
       "      <td>650.0</td>\n",
       "      <td>0.0</td>\n",
       "      <td>-650.0</td>\n",
       "      <td>2015</td>\n",
       "      <td>16:08:18</td>\n",
       "      <td>evening</td>\n",
       "      <td>127</td>\n",
       "      <td>flowsheet|Flowsheet Cell Labels|I&amp;O|Weight|Bod...</td>\n",
       "      <td>Bodyweight (lb)</td>\n",
       "      <td>269.0</td>\n",
       "      <td>269</td>\n",
       "    </tr>\n",
       "    <tr>\n",
       "      <th>1</th>\n",
       "      <td>242380</td>\n",
       "      <td>17914024</td>\n",
       "      <td>2015</td>\n",
       "      <td>11:00:00</td>\n",
       "      <td>noon</td>\n",
       "      <td>-181</td>\n",
       "      <td>0.0</td>\n",
       "      <td>650.0</td>\n",
       "      <td>0.0</td>\n",
       "      <td>-650.0</td>\n",
       "      <td>2015</td>\n",
       "      <td>16:08:18</td>\n",
       "      <td>evening</td>\n",
       "      <td>127</td>\n",
       "      <td>flowsheet|Flowsheet Cell Labels|I&amp;O|Output (ml...</td>\n",
       "      <td>Urine</td>\n",
       "      <td>650.0</td>\n",
       "      <td>650</td>\n",
       "    </tr>\n",
       "    <tr>\n",
       "      <th>2</th>\n",
       "      <td>242380</td>\n",
       "      <td>17914025</td>\n",
       "      <td>2015</td>\n",
       "      <td>11:00:00</td>\n",
       "      <td>noon</td>\n",
       "      <td>-181</td>\n",
       "      <td>0.0</td>\n",
       "      <td>650.0</td>\n",
       "      <td>0.0</td>\n",
       "      <td>-650.0</td>\n",
       "      <td>2015</td>\n",
       "      <td>16:08:18</td>\n",
       "      <td>evening</td>\n",
       "      <td>127</td>\n",
       "      <td>flowsheet|Flowsheet Cell Labels|I&amp;O|Weight|Bod...</td>\n",
       "      <td>Bodyweight (kg)</td>\n",
       "      <td>122.0</td>\n",
       "      <td>122</td>\n",
       "    </tr>\n",
       "    <tr>\n",
       "      <th>3</th>\n",
       "      <td>242380</td>\n",
       "      <td>17609931</td>\n",
       "      <td>2015</td>\n",
       "      <td>19:00:00</td>\n",
       "      <td>night</td>\n",
       "      <td>299</td>\n",
       "      <td>0.0</td>\n",
       "      <td>500.0</td>\n",
       "      <td>0.0</td>\n",
       "      <td>-500.0</td>\n",
       "      <td>2015</td>\n",
       "      <td>21:01:57</td>\n",
       "      <td>night</td>\n",
       "      <td>420</td>\n",
       "      <td>flowsheet|Flowsheet Cell Labels|I&amp;O|Output (ml...</td>\n",
       "      <td>Urine</td>\n",
       "      <td>500.0</td>\n",
       "      <td>500</td>\n",
       "    </tr>\n",
       "    <tr>\n",
       "      <th>4</th>\n",
       "      <td>242380</td>\n",
       "      <td>18175773</td>\n",
       "      <td>2015</td>\n",
       "      <td>03:00:00</td>\n",
       "      <td>morning</td>\n",
       "      <td>779</td>\n",
       "      <td>0.0</td>\n",
       "      <td>700.0</td>\n",
       "      <td>0.0</td>\n",
       "      <td>-700.0</td>\n",
       "      <td>2015</td>\n",
       "      <td>07:54:33</td>\n",
       "      <td>midday</td>\n",
       "      <td>1073</td>\n",
       "      <td>flowsheet|Flowsheet Cell Labels|I&amp;O|Output (ml...</td>\n",
       "      <td>Urine</td>\n",
       "      <td>700.0</td>\n",
       "      <td>700</td>\n",
       "    </tr>\n",
       "  </tbody>\n",
       "</table>\n",
       "</div>"
      ],
      "text/plain": [
       "   patientunitstayid  intakeoutputid  intakeoutputyear intakeoutputtime24  \\\n",
       "0             242380        17914026              2015           11:00:00   \n",
       "1             242380        17914024              2015           11:00:00   \n",
       "2             242380        17914025              2015           11:00:00   \n",
       "3             242380        17609931              2015           19:00:00   \n",
       "4             242380        18175773              2015           03:00:00   \n",
       "\n",
       "  intakeoutputtime  intakeoutputoffset  intaketotal  outputtotal  \\\n",
       "0             noon                -181          0.0        650.0   \n",
       "1             noon                -181          0.0        650.0   \n",
       "2             noon                -181          0.0        650.0   \n",
       "3            night                 299          0.0        500.0   \n",
       "4          morning                 779          0.0        700.0   \n",
       "\n",
       "   dialysistotal  nettotal  intakeoutputentryyear intakeoutputentrytime24  \\\n",
       "0            0.0    -650.0                   2015                16:08:18   \n",
       "1            0.0    -650.0                   2015                16:08:18   \n",
       "2            0.0    -650.0                   2015                16:08:18   \n",
       "3            0.0    -500.0                   2015                21:01:57   \n",
       "4            0.0    -700.0                   2015                07:54:33   \n",
       "\n",
       "  intakeoutputentrytime  intakeoutputentryoffset  \\\n",
       "0               evening                      127   \n",
       "1               evening                      127   \n",
       "2               evening                      127   \n",
       "3                 night                      420   \n",
       "4                midday                     1073   \n",
       "\n",
       "                                            cellpath        celllabel  \\\n",
       "0  flowsheet|Flowsheet Cell Labels|I&O|Weight|Bod...  Bodyweight (lb)   \n",
       "1  flowsheet|Flowsheet Cell Labels|I&O|Output (ml...            Urine   \n",
       "2  flowsheet|Flowsheet Cell Labels|I&O|Weight|Bod...  Bodyweight (kg)   \n",
       "3  flowsheet|Flowsheet Cell Labels|I&O|Output (ml...            Urine   \n",
       "4  flowsheet|Flowsheet Cell Labels|I&O|Output (ml...            Urine   \n",
       "\n",
       "   cellvaluenumeric cellvaluetext  \n",
       "0             269.0           269  \n",
       "1             650.0           650  \n",
       "2             122.0           122  \n",
       "3             500.0           500  \n",
       "4             700.0           700  "
      ]
     },
     "execution_count": 11,
     "metadata": {},
     "output_type": "execute_result"
    }
   ],
   "source": [
    "query = query_schema + \"\"\"\n",
    "select *\n",
    "from intakeoutput\n",
    "where patientunitstayid = {}\n",
    "order by intakeoutputoffset\n",
    "\"\"\".format(patientunitstayid)\n",
    "\n",
    "df = pd.read_sql_query(query, con)\n",
    "df.head()"
   ]
  },
  {
   "cell_type": "markdown",
   "metadata": {},
   "source": [
    "Above we can see that the type of data recorded is described by the `cellpath`. `cellpath` is hierarchical, with pipes (`|`) separating hierarchies. As expected, most data here will fall under the I&O hierarchy. We can see the patient body weight is recorded in both pounds (lbs) and kilograms (kg). The patient's urine output is also documented."
   ]
  },
  {
   "cell_type": "markdown",
   "metadata": {},
   "source": [
    "### Urine output\n",
    "\n",
    "Though not recommended for actual use in a study, we can write a query to quickly get an idea of urine output for this patient."
   ]
  },
  {
   "cell_type": "code",
   "execution_count": 13,
   "metadata": {},
   "outputs": [
    {
     "data": {
      "text/html": [
       "<div class=\"vega-embed\" id=\"5843d9c3-5788-47c6-8aca-aa302ebb5ab9\"></div>\n",
       "\n",
       "<style>\n",
       ".vega-embed svg, .vega-embed canvas {\n",
       "  border: 1px dotted gray;\n",
       "}\n",
       "\n",
       ".vega-embed .vega-actions a {\n",
       "  margin-right: 6px;\n",
       "}\n",
       "</style>\n"
      ]
     },
     "metadata": {
      "jupyter-vega3": "#5843d9c3-5788-47c6-8aca-aa302ebb5ab9"
     },
     "output_type": "display_data"
    },
    {
     "data": {
      "application/javascript": [
       "var spec = {\"selection\": {\"grid\": {\"type\": \"interval\", \"bind\": \"scales\"}}, \"mark\": \"line\", \"data\": {\"values\": [{\"intakeoutputoffset\": -181, \"variable\": \"uo\", \"value\": 650.0}, {\"intakeoutputoffset\": 299, \"variable\": \"uo\", \"value\": 1150.0}, {\"intakeoutputoffset\": 779, \"variable\": \"uo\", \"value\": 1850.0}, {\"intakeoutputoffset\": 1259, \"variable\": \"uo\", \"value\": 3750.0}]}, \"width\": 450, \"$schema\": \"https://vega.github.io/schema/vega-lite/v2.json\", \"height\": 300, \"encoding\": {\"y\": {\"field\": \"value\", \"type\": \"quantitative\"}, \"x\": {\"field\": \"intakeoutputoffset\", \"type\": \"quantitative\"}, \"color\": {\"field\": \"variable\", \"type\": \"nominal\"}}};\n",
       "var selector = \"#5843d9c3-5788-47c6-8aca-aa302ebb5ab9\";\n",
       "var type = \"vega-lite\";\n",
       "\n",
       "var output_area = this;\n",
       "require(['nbextensions/jupyter-vega3/index'], function(vega) {\n",
       "  vega.render(selector, spec, type, output_area);\n",
       "}, function (err) {\n",
       "  if (err.requireType !== 'scripterror') {\n",
       "    throw(err);\n",
       "  }\n",
       "});\n"
      ]
     },
     "metadata": {
      "jupyter-vega3": "#5843d9c3-5788-47c6-8aca-aa302ebb5ab9"
     },
     "output_type": "display_data"
    },
    {
     "data": {
      "image/png": "[encoded data removed]"
     },
     "metadata": {
      "jupyter-vega3": "#5843d9c3-5788-47c6-8aca-aa302ebb5ab9"
     },
     "output_type": "display_data"
    }
   ],
   "source": [
    "df_uo = df.loc[df['celllabel'].str.contains('Urine'), :].copy()\n",
    "df_uo['uo'] = pd.to_numeric(df_uo['cellvaluenumeric'], errors='coerce')\n",
    "df_uo['uo'] = df_uo['uo'].cumsum()\n",
    "\n",
    "cols = ['uo']\n",
    "df_uo.set_index('intakeoutputoffset')[cols].vgplot()"
   ]
  },
  {
   "cell_type": "markdown",
   "metadata": {},
   "source": [
    "## General intake/output\n",
    "\n",
    "The columns `intaketotal`, `outputtotal`, `dialysistotal`, and `nettotal` give us an easy way to plot the patient's fluid balance over time."
   ]
  },
  {
   "cell_type": "code",
   "execution_count": 14,
   "metadata": {},
   "outputs": [
    {
     "data": {
      "text/html": [
       "<div class=\"vega-embed\" id=\"1b6d3307-c4fe-44c7-a5f2-956069828857\"></div>\n",
       "\n",
       "<style>\n",
       ".vega-embed svg, .vega-embed canvas {\n",
       "  border: 1px dotted gray;\n",
       "}\n",
       "\n",
       ".vega-embed .vega-actions a {\n",
       "  margin-right: 6px;\n",
       "}\n",
       "</style>\n"
      ]
     },
     "metadata": {
      "jupyter-vega3": "#1b6d3307-c4fe-44c7-a5f2-956069828857"
     },
     "output_type": "display_data"
    },
    {
     "data": {
      "application/javascript": [
       "var spec = {\"selection\": {\"grid\": {\"type\": \"interval\", \"bind\": \"scales\"}}, \"mark\": \"line\", \"data\": {\"values\": [{\"intakeoutputoffset\": -181, \"variable\": \"intaketotal\", \"value\": 0.0}, {\"intakeoutputoffset\": -181, \"variable\": \"intaketotal\", \"value\": 0.0}, {\"intakeoutputoffset\": -181, \"variable\": \"intaketotal\", \"value\": 0.0}, {\"intakeoutputoffset\": 299, \"variable\": \"intaketotal\", \"value\": 0.0}, {\"intakeoutputoffset\": 779, \"variable\": \"intaketotal\", \"value\": 0.0}, {\"intakeoutputoffset\": 1259, \"variable\": \"intaketotal\", \"value\": 0.0}, {\"intakeoutputoffset\": -181, \"variable\": \"outputtotal\", \"value\": 650.0}, {\"intakeoutputoffset\": -181, \"variable\": \"outputtotal\", \"value\": 650.0}, {\"intakeoutputoffset\": -181, \"variable\": \"outputtotal\", \"value\": 650.0}, {\"intakeoutputoffset\": 299, \"variable\": \"outputtotal\", \"value\": 500.0}, {\"intakeoutputoffset\": 779, \"variable\": \"outputtotal\", \"value\": 700.0}, {\"intakeoutputoffset\": 1259, \"variable\": \"outputtotal\", \"value\": 1900.0}, {\"intakeoutputoffset\": -181, \"variable\": \"dialysistotal\", \"value\": 0.0}, {\"intakeoutputoffset\": -181, \"variable\": \"dialysistotal\", \"value\": 0.0}, {\"intakeoutputoffset\": -181, \"variable\": \"dialysistotal\", \"value\": 0.0}, {\"intakeoutputoffset\": 299, \"variable\": \"dialysistotal\", \"value\": 0.0}, {\"intakeoutputoffset\": 779, \"variable\": \"dialysistotal\", \"value\": 0.0}, {\"intakeoutputoffset\": 1259, \"variable\": \"dialysistotal\", \"value\": 0.0}, {\"intakeoutputoffset\": -181, \"variable\": \"nettotal\", \"value\": -650.0}, {\"intakeoutputoffset\": -181, \"variable\": \"nettotal\", \"value\": -650.0}, {\"intakeoutputoffset\": -181, \"variable\": \"nettotal\", \"value\": -650.0}, {\"intakeoutputoffset\": 299, \"variable\": \"nettotal\", \"value\": -500.0}, {\"intakeoutputoffset\": 779, \"variable\": \"nettotal\", \"value\": -700.0}, {\"intakeoutputoffset\": 1259, \"variable\": \"nettotal\", \"value\": -1900.0}]}, \"width\": 450, \"$schema\": \"https://vega.github.io/schema/vega-lite/v2.json\", \"height\": 300, \"encoding\": {\"y\": {\"field\": \"value\", \"type\": \"quantitative\"}, \"x\": {\"field\": \"intakeoutputoffset\", \"type\": \"quantitative\"}, \"color\": {\"field\": \"variable\", \"type\": \"nominal\"}}};\n",
       "var selector = \"#1b6d3307-c4fe-44c7-a5f2-956069828857\";\n",
       "var type = \"vega-lite\";\n",
       "\n",
       "var output_area = this;\n",
       "require(['nbextensions/jupyter-vega3/index'], function(vega) {\n",
       "  vega.render(selector, spec, type, output_area);\n",
       "}, function (err) {\n",
       "  if (err.requireType !== 'scripterror') {\n",
       "    throw(err);\n",
       "  }\n",
       "});\n"
      ]
     },
     "metadata": {
      "jupyter-vega3": "#1b6d3307-c4fe-44c7-a5f2-956069828857"
     },
     "output_type": "display_data"
    },
    {
     "data": {
      "image/png": "[encoded data removed]"
     },
     "metadata": {
      "jupyter-vega3": "#1b6d3307-c4fe-44c7-a5f2-956069828857"
     },
     "output_type": "display_data"
    }
   ],
   "source": [
    "cols = ['intaketotal', 'outputtotal', 'dialysistotal', 'nettotal']\n",
    "df.set_index('intakeoutputoffset')[cols].vgplot()"
   ]
  },
  {
   "cell_type": "markdown",
   "metadata": {},
   "source": [
    "Of course, it is unlikely that the patient has good urine output for almost 20 hours with no corresponding fluid intake - and even less likely that urine output is the *only* factor affecting patient fluid balance and likely the `nettotal` column is a naive aggregation of information documented in the intakeOutput table. Indeed, we can see from the infusionDrug table that the patient is receiving both heparin and nitroglycerin, which should be factored in as inputs when calculating patient fluid balance."
   ]
  },
  {
   "cell_type": "markdown",
   "metadata": {},
   "source": [
    "## Hospitals with data available"
   ]
  },
  {
   "cell_type": "code",
   "execution_count": 8,
   "metadata": {},
   "outputs": [
    {
     "data": {
      "text/html": [
       "<div>\n",
       "<style scoped>\n",
       "    .dataframe tbody tr th:only-of-type {\n",
       "        vertical-align: middle;\n",
       "    }\n",
       "\n",
       "    .dataframe tbody tr th {\n",
       "        vertical-align: top;\n",
       "    }\n",
       "\n",
       "    .dataframe thead th {\n",
       "        text-align: right;\n",
       "    }\n",
       "</style>\n",
       "<table border=\"1\" class=\"dataframe\">\n",
       "  <thead>\n",
       "    <tr style=\"text-align: right;\">\n",
       "      <th></th>\n",
       "      <th>hospitalid</th>\n",
       "      <th>number_of_patients</th>\n",
       "      <th>number_of_patients_with_tbl</th>\n",
       "      <th>data completion</th>\n",
       "    </tr>\n",
       "  </thead>\n",
       "  <tbody>\n",
       "    <tr>\n",
       "      <th>11</th>\n",
       "      <td>73</td>\n",
       "      <td>7059</td>\n",
       "      <td>6914</td>\n",
       "      <td>97.945885</td>\n",
       "    </tr>\n",
       "    <tr>\n",
       "      <th>54</th>\n",
       "      <td>167</td>\n",
       "      <td>6092</td>\n",
       "      <td>5666</td>\n",
       "      <td>93.007223</td>\n",
       "    </tr>\n",
       "    <tr>\n",
       "      <th>106</th>\n",
       "      <td>264</td>\n",
       "      <td>5237</td>\n",
       "      <td>5088</td>\n",
       "      <td>97.154860</td>\n",
       "    </tr>\n",
       "    <tr>\n",
       "      <th>184</th>\n",
       "      <td>420</td>\n",
       "      <td>4679</td>\n",
       "      <td>4446</td>\n",
       "      <td>95.020303</td>\n",
       "    </tr>\n",
       "    <tr>\n",
       "      <th>134</th>\n",
       "      <td>338</td>\n",
       "      <td>4277</td>\n",
       "      <td>4232</td>\n",
       "      <td>98.947861</td>\n",
       "    </tr>\n",
       "    <tr>\n",
       "      <th>90</th>\n",
       "      <td>243</td>\n",
       "      <td>4243</td>\n",
       "      <td>4156</td>\n",
       "      <td>97.949564</td>\n",
       "    </tr>\n",
       "    <tr>\n",
       "      <th>71</th>\n",
       "      <td>199</td>\n",
       "      <td>4240</td>\n",
       "      <td>3970</td>\n",
       "      <td>93.632075</td>\n",
       "    </tr>\n",
       "    <tr>\n",
       "      <th>58</th>\n",
       "      <td>176</td>\n",
       "      <td>4328</td>\n",
       "      <td>3935</td>\n",
       "      <td>90.919593</td>\n",
       "    </tr>\n",
       "    <tr>\n",
       "      <th>206</th>\n",
       "      <td>458</td>\n",
       "      <td>3701</td>\n",
       "      <td>3663</td>\n",
       "      <td>98.973250</td>\n",
       "    </tr>\n",
       "    <tr>\n",
       "      <th>122</th>\n",
       "      <td>300</td>\n",
       "      <td>3617</td>\n",
       "      <td>3534</td>\n",
       "      <td>97.705281</td>\n",
       "    </tr>\n",
       "  </tbody>\n",
       "</table>\n",
       "</div>"
      ],
      "text/plain": [
       "     hospitalid  number_of_patients  number_of_patients_with_tbl  \\\n",
       "11           73                7059                         6914   \n",
       "54          167                6092                         5666   \n",
       "106         264                5237                         5088   \n",
       "184         420                4679                         4446   \n",
       "134         338                4277                         4232   \n",
       "90          243                4243                         4156   \n",
       "71          199                4240                         3970   \n",
       "58          176                4328                         3935   \n",
       "206         458                3701                         3663   \n",
       "122         300                3617                         3534   \n",
       "\n",
       "     data completion  \n",
       "11         97.945885  \n",
       "54         93.007223  \n",
       "106        97.154860  \n",
       "184        95.020303  \n",
       "134        98.947861  \n",
       "90         97.949564  \n",
       "71         93.632075  \n",
       "58         90.919593  \n",
       "206        98.973250  \n",
       "122        97.705281  "
      ]
     },
     "execution_count": 8,
     "metadata": {},
     "output_type": "execute_result"
    }
   ],
   "source": [
    "query = query_schema + \"\"\"\n",
    "select \n",
    "  pt.hospitalid\n",
    "  , count(distinct pt.patientunitstayid) as number_of_patients\n",
    "  , count(distinct a.patientunitstayid) as number_of_patients_with_tbl\n",
    "from patient pt\n",
    "left join intakeoutput a\n",
    "  on pt.patientunitstayid = a.patientunitstayid\n",
    "group by pt.hospitalid\n",
    "\"\"\".format(patientunitstayid)\n",
    "\n",
    "df = pd.read_sql_query(query, con)\n",
    "df['data completion'] = df['number_of_patients_with_tbl'] / df['number_of_patients'] * 100.0\n",
    "df.sort_values('number_of_patients_with_tbl', ascending=False, inplace=True)\n",
    "df.head(n=10)"
   ]
  },
  {
   "cell_type": "code",
   "execution_count": 9,
   "metadata": {},
   "outputs": [
    {
     "data": {
      "text/html": [
       "<div class=\"vega-embed\" id=\"165e2fc6-a69a-49c7-88c1-a30f3ac4e112\"></div>\n",
       "\n",
       "<style>\n",
       ".vega-embed svg, .vega-embed canvas {\n",
       "  border: 1px dotted gray;\n",
       "}\n",
       "\n",
       ".vega-embed .vega-actions a {\n",
       "  margin-right: 6px;\n",
       "}\n",
       "</style>\n"
      ]
     },
     "metadata": {
      "jupyter-vega3": "#165e2fc6-a69a-49c7-88c1-a30f3ac4e112"
     },
     "output_type": "display_data"
    },
    {
     "data": {
      "application/javascript": [
       "var spec = {\"selection\": {\"grid\": {\"type\": \"interval\", \"bind\": \"scales\"}}, \"mark\": \"bar\", \"data\": {\"values\": [{\"Number of hospitals\": \"data completion\", \"Percent of patients with data\": 97.94588468621617}, {\"Number of hospitals\": \"data completion\", \"Percent of patients with data\": 93.00722258699933}, {\"Number of hospitals\": \"data completion\", \"Percent of patients with data\": 97.1548596524728}, {\"Number of hospitals\": \"data completion\", \"Percent of patients with data\": 95.02030348365035}, {\"Number of hospitals\": \"data completion\", \"Percent of patients with data\": 98.9478606499883}, {\"Number of hospitals\": \"data completion\", \"Percent of patients with data\": 97.94956398774453}, {\"Number of hospitals\": \"data completion\", \"Percent of patients with data\": 93.63207547169812}, {\"Number of hospitals\": \"data completion\", \"Percent of patients with data\": 90.9195933456562}, {\"Number of hospitals\": \"data completion\", \"Percent of patients with data\": 98.97325047284518}, {\"Number of hospitals\": \"data completion\", \"Percent of patients with data\": 97.70528061929777}, {\"Number of hospitals\": \"data completion\", \"Percent of patients with data\": 95.95185995623632}, {\"Number of hospitals\": \"data completion\", \"Percent of patients with data\": 94.94584837545126}, {\"Number of hospitals\": \"data completion\", \"Percent of patients with data\": 92.82191780821918}, {\"Number of hospitals\": \"data completion\", \"Percent of patients with data\": 99.5550281815485}, {\"Number of hospitals\": \"data completion\", \"Percent of patients with data\": 92.90403251015942}, {\"Number of hospitals\": \"data completion\", \"Percent of patients with data\": 97.38184291057463}, {\"Number of hospitals\": \"data completion\", \"Percent of patients with data\": 92.10612512283001}, {\"Number of hospitals\": \"data completion\", \"Percent of patients with data\": 93.78687955570982}, {\"Number of hospitals\": \"data completion\", \"Percent of patients with data\": 91.44994656216602}, {\"Number of hospitals\": \"data completion\", \"Percent of patients with data\": 99.33637494815429}, {\"Number of hospitals\": \"data completion\", \"Percent of patients with data\": 99.81042654028435}, {\"Number of hospitals\": \"data completion\", \"Percent of patients with data\": 98.50117096018735}, {\"Number of hospitals\": \"data completion\", \"Percent of patients with data\": 80.79810351639668}, {\"Number of hospitals\": \"data completion\", \"Percent of patients with data\": 98.3638113570741}, {\"Number of hospitals\": \"data completion\", \"Percent of patients with data\": 95.82933844678811}, {\"Number of hospitals\": \"data completion\", \"Percent of patients with data\": 91.1567877629063}, {\"Number of hospitals\": \"data completion\", \"Percent of patients with data\": 90.53282588011417}, {\"Number of hospitals\": \"data completion\", \"Percent of patients with data\": 98.14145585957667}, {\"Number of hospitals\": \"data completion\", \"Percent of patients with data\": 96.27551020408164}, {\"Number of hospitals\": \"data completion\", \"Percent of patients with data\": 91.13422486379396}, {\"Number of hospitals\": \"data completion\", \"Percent of patients with data\": 98.75876956287102}, {\"Number of hospitals\": \"data completion\", \"Percent of patients with data\": 85.78922269909395}, {\"Number of hospitals\": \"data completion\", \"Percent of patients with data\": 98.86234357224119}, {\"Number of hospitals\": \"data completion\", \"Percent of patients with data\": 95.12595837897044}, {\"Number of hospitals\": \"data completion\", \"Percent of patients with data\": 96.74523007856341}, {\"Number of hospitals\": \"data completion\", \"Percent of patients with data\": 99.880810488677}, {\"Number of hospitals\": \"data completion\", \"Percent of patients with data\": 88.37333333333333}, {\"Number of hospitals\": \"data completion\", \"Percent of patients with data\": 89.00973096737263}, {\"Number of hospitals\": \"data completion\", \"Percent of patients with data\": 98.08673469387756}, {\"Number of hospitals\": \"data completion\", \"Percent of patients with data\": 99.0272373540856}, {\"Number of hospitals\": \"data completion\", \"Percent of patients with data\": 94.04466501240695}, {\"Number of hospitals\": \"data completion\", \"Percent of patients with data\": 93.97749834546659}, {\"Number of hospitals\": \"data completion\", \"Percent of patients with data\": 87.64044943820225}, {\"Number of hospitals\": \"data completion\", \"Percent of patients with data\": 97.45889387144993}, {\"Number of hospitals\": \"data completion\", \"Percent of patients with data\": 89.80716253443526}, {\"Number of hospitals\": \"data completion\", \"Percent of patients with data\": 70.72767364939361}, {\"Number of hospitals\": \"data completion\", \"Percent of patients with data\": 96.95354150799696}, {\"Number of hospitals\": \"data completion\", \"Percent of patients with data\": 99.13589945011783}, {\"Number of hospitals\": \"data completion\", \"Percent of patients with data\": 95.28228924980665}, {\"Number of hospitals\": \"data completion\", \"Percent of patients with data\": 95.31502423263328}, {\"Number of hospitals\": \"data completion\", \"Percent of patients with data\": 97.63986013986013}, {\"Number of hospitals\": \"data completion\", \"Percent of patients with data\": 100.0}, {\"Number of hospitals\": \"data completion\", \"Percent of patients with data\": 87.96296296296296}, {\"Number of hospitals\": \"data completion\", \"Percent of patients with data\": 97.75070290534208}, {\"Number of hospitals\": \"data completion\", \"Percent of patients with data\": 98.76777251184834}, {\"Number of hospitals\": \"data completion\", \"Percent of patients with data\": 85.77512776831345}, {\"Number of hospitals\": \"data completion\", \"Percent of patients with data\": 98.20359281437125}, {\"Number of hospitals\": \"data completion\", \"Percent of patients with data\": 96.0822722820764}, {\"Number of hospitals\": \"data completion\", \"Percent of patients with data\": 76.99604743083003}, {\"Number of hospitals\": \"data completion\", \"Percent of patients with data\": 99.08350305498982}, {\"Number of hospitals\": \"data completion\", \"Percent of patients with data\": 91.30009775171065}, {\"Number of hospitals\": \"data completion\", \"Percent of patients with data\": 99.13793103448276}, {\"Number of hospitals\": \"data completion\", \"Percent of patients with data\": 89.9390243902439}, {\"Number of hospitals\": \"data completion\", \"Percent of patients with data\": 78.84615384615384}, {\"Number of hospitals\": \"data completion\", \"Percent of patients with data\": 86.29032258064517}, {\"Number of hospitals\": \"data completion\", \"Percent of patients with data\": 96.33867276887872}, {\"Number of hospitals\": \"data completion\", \"Percent of patients with data\": 99.51807228915662}, {\"Number of hospitals\": \"data completion\", \"Percent of patients with data\": 94.37939110070258}, {\"Number of hospitals\": \"data completion\", \"Percent of patients with data\": 95.85870889159561}, {\"Number of hospitals\": \"data completion\", \"Percent of patients with data\": 92.37089201877934}, {\"Number of hospitals\": \"data completion\", \"Percent of patients with data\": 94.47368421052632}, {\"Number of hospitals\": \"data completion\", \"Percent of patients with data\": 96.5006729475101}, {\"Number of hospitals\": \"data completion\", \"Percent of patients with data\": 75.29039070749735}, {\"Number of hospitals\": \"data completion\", \"Percent of patients with data\": 93.91424619640387}, {\"Number of hospitals\": \"data completion\", \"Percent of patients with data\": 93.7062937062937}, {\"Number of hospitals\": \"data completion\", \"Percent of patients with data\": 96.09826589595376}, {\"Number of hospitals\": \"data completion\", \"Percent of patients with data\": 91.01123595505618}, {\"Number of hospitals\": \"data completion\", \"Percent of patients with data\": 92.53945480631278}, {\"Number of hospitals\": \"data completion\", \"Percent of patients with data\": 70.60773480662984}, {\"Number of hospitals\": \"data completion\", \"Percent of patients with data\": 99.83999999999999}, {\"Number of hospitals\": \"data completion\", \"Percent of patients with data\": 82.95302013422818}, {\"Number of hospitals\": \"data completion\", \"Percent of patients with data\": 100.0}, {\"Number of hospitals\": \"data completion\", \"Percent of patients with data\": 87.5}, {\"Number of hospitals\": \"data completion\", \"Percent of patients with data\": 81.70563961485557}, {\"Number of hospitals\": \"data completion\", \"Percent of patients with data\": 99.49324324324324}, {\"Number of hospitals\": \"data completion\", \"Percent of patients with data\": 97.95221843003414}, {\"Number of hospitals\": \"data completion\", \"Percent of patients with data\": 98.25174825174825}, {\"Number of hospitals\": \"data completion\", \"Percent of patients with data\": 88.17891373801918}, {\"Number of hospitals\": \"data completion\", \"Percent of patients with data\": 93.3786078098472}, {\"Number of hospitals\": \"data completion\", \"Percent of patients with data\": 98.72262773722628}, {\"Number of hospitals\": \"data completion\", \"Percent of patients with data\": 73.82920110192838}, {\"Number of hospitals\": \"data completion\", \"Percent of patients with data\": 99.44237918215613}, {\"Number of hospitals\": \"data completion\", \"Percent of patients with data\": 83.4115805946792}, {\"Number of hospitals\": \"data completion\", \"Percent of patients with data\": 90.95563139931741}, {\"Number of hospitals\": \"data completion\", \"Percent of patients with data\": 97.71428571428571}, {\"Number of hospitals\": \"data completion\", \"Percent of patients with data\": 77.35562310030394}, {\"Number of hospitals\": \"data completion\", \"Percent of patients with data\": 87.60907504363001}, {\"Number of hospitals\": \"data completion\", \"Percent of patients with data\": 30.82706766917293}, {\"Number of hospitals\": \"data completion\", \"Percent of patients with data\": 98.38056680161942}, {\"Number of hospitals\": \"data completion\", \"Percent of patients with data\": 69.60926193921853}, {\"Number of hospitals\": \"data completion\", \"Percent of patients with data\": 96.37096774193549}, {\"Number of hospitals\": \"data completion\", \"Percent of patients with data\": 95.34412955465586}, {\"Number of hospitals\": \"data completion\", \"Percent of patients with data\": 99.78448275862068}, {\"Number of hospitals\": \"data completion\", \"Percent of patients with data\": 86.14800759013282}, {\"Number of hospitals\": \"data completion\", \"Percent of patients with data\": 76.32027257240205}, {\"Number of hospitals\": \"data completion\", \"Percent of patients with data\": 96.50655021834062}, {\"Number of hospitals\": \"data completion\", \"Percent of patients with data\": 86.42714570858283}, {\"Number of hospitals\": \"data completion\", \"Percent of patients with data\": 68.08149405772495}, {\"Number of hospitals\": \"data completion\", \"Percent of patients with data\": 97.08029197080292}, {\"Number of hospitals\": \"data completion\", \"Percent of patients with data\": 94.18886198547214}, {\"Number of hospitals\": \"data completion\", \"Percent of patients with data\": 79.21810699588477}, {\"Number of hospitals\": \"data completion\", \"Percent of patients with data\": 99.47229551451187}, {\"Number of hospitals\": \"data completion\", \"Percent of patients with data\": 96.83377308707124}, {\"Number of hospitals\": \"data completion\", \"Percent of patients with data\": 80.31319910514542}, {\"Number of hospitals\": \"data completion\", \"Percent of patients with data\": 99.72067039106145}, {\"Number of hospitals\": \"data completion\", \"Percent of patients with data\": 86.3080684596577}, {\"Number of hospitals\": \"data completion\", \"Percent of patients with data\": 98.03370786516854}, {\"Number of hospitals\": \"data completion\", \"Percent of patients with data\": 94.27792915531336}, {\"Number of hospitals\": \"data completion\", \"Percent of patients with data\": 97.99426934097421}, {\"Number of hospitals\": \"data completion\", \"Percent of patients with data\": 99.6951219512195}, {\"Number of hospitals\": \"data completion\", \"Percent of patients with data\": 91.52542372881356}, {\"Number of hospitals\": \"data completion\", \"Percent of patients with data\": 99.68553459119497}, {\"Number of hospitals\": \"data completion\", \"Percent of patients with data\": 54.78260869565217}, {\"Number of hospitals\": \"data completion\", \"Percent of patients with data\": 96.3076923076923}, {\"Number of hospitals\": \"data completion\", \"Percent of patients with data\": 98.10725552050474}, {\"Number of hospitals\": \"data completion\", \"Percent of patients with data\": 89.30635838150289}, {\"Number of hospitals\": \"data completion\", \"Percent of patients with data\": 100.0}, {\"Number of hospitals\": \"data completion\", \"Percent of patients with data\": 79.8941798941799}, {\"Number of hospitals\": \"data completion\", \"Percent of patients with data\": 96.73202614379085}, {\"Number of hospitals\": \"data completion\", \"Percent of patients with data\": 89.09657320872275}, {\"Number of hospitals\": \"data completion\", \"Percent of patients with data\": 75.06702412868633}, {\"Number of hospitals\": \"data completion\", \"Percent of patients with data\": 90.9090909090909}, {\"Number of hospitals\": \"data completion\", \"Percent of patients with data\": 67.71653543307087}, {\"Number of hospitals\": \"data completion\", \"Percent of patients with data\": 85.43046357615894}, {\"Number of hospitals\": \"data completion\", \"Percent of patients with data\": 94.16342412451361}, {\"Number of hospitals\": \"data completion\", \"Percent of patients with data\": 59.75308641975309}, {\"Number of hospitals\": \"data completion\", \"Percent of patients with data\": 94.11764705882352}, {\"Number of hospitals\": \"data completion\", \"Percent of patients with data\": 92.1875}, {\"Number of hospitals\": \"data completion\", \"Percent of patients with data\": 18.679549114331724}, {\"Number of hospitals\": \"data completion\", \"Percent of patients with data\": 99.14163090128756}, {\"Number of hospitals\": \"data completion\", \"Percent of patients with data\": 55.392156862745104}, {\"Number of hospitals\": \"data completion\", \"Percent of patients with data\": 88.23529411764706}, {\"Number of hospitals\": \"data completion\", \"Percent of patients with data\": 95.70815450643777}, {\"Number of hospitals\": \"data completion\", \"Percent of patients with data\": 99.54954954954955}, {\"Number of hospitals\": \"data completion\", \"Percent of patients with data\": 100.0}, {\"Number of hospitals\": \"data completion\", \"Percent of patients with data\": 99.06976744186046}, {\"Number of hospitals\": \"data completion\", \"Percent of patients with data\": 82.99595141700405}, {\"Number of hospitals\": \"data completion\", \"Percent of patients with data\": 20.3913491246138}, {\"Number of hospitals\": \"data completion\", \"Percent of patients with data\": 78.77551020408163}, {\"Number of hospitals\": \"data completion\", \"Percent of patients with data\": 16.916299559471366}, {\"Number of hospitals\": \"data completion\", \"Percent of patients with data\": 98.96373056994818}, {\"Number of hospitals\": \"data completion\", \"Percent of patients with data\": 88.09523809523809}, {\"Number of hospitals\": \"data completion\", \"Percent of patients with data\": 26.0431654676259}, {\"Number of hospitals\": \"data completion\", \"Percent of patients with data\": 87.37373737373737}, {\"Number of hospitals\": \"data completion\", \"Percent of patients with data\": 69.73684210526315}, {\"Number of hospitals\": \"data completion\", \"Percent of patients with data\": 91.22807017543859}, {\"Number of hospitals\": \"data completion\", \"Percent of patients with data\": 87.00564971751412}, {\"Number of hospitals\": \"data completion\", \"Percent of patients with data\": 99.33774834437085}, {\"Number of hospitals\": \"data completion\", \"Percent of patients with data\": 62.22222222222222}, {\"Number of hospitals\": \"data completion\", \"Percent of patients with data\": 93.75}, {\"Number of hospitals\": \"data completion\", \"Percent of patients with data\": 82.5}, {\"Number of hospitals\": \"data completion\", \"Percent of patients with data\": 93.89312977099237}, {\"Number of hospitals\": \"data completion\", \"Percent of patients with data\": 99.18032786885246}, {\"Number of hospitals\": \"data completion\", \"Percent of patients with data\": 91.6030534351145}, {\"Number of hospitals\": \"data completion\", \"Percent of patients with data\": 63.06818181818182}, {\"Number of hospitals\": \"data completion\", \"Percent of patients with data\": 85.03937007874016}, {\"Number of hospitals\": \"data completion\", \"Percent of patients with data\": 47.27272727272727}, {\"Number of hospitals\": \"data completion\", \"Percent of patients with data\": 69.11764705882352}, {\"Number of hospitals\": \"data completion\", \"Percent of patients with data\": 72.58064516129032}, {\"Number of hospitals\": \"data completion\", \"Percent of patients with data\": 95.06172839506173}, {\"Number of hospitals\": \"data completion\", \"Percent of patients with data\": 89.28571428571429}, {\"Number of hospitals\": \"data completion\", \"Percent of patients with data\": 66.66666666666666}, {\"Number of hospitals\": \"data completion\", \"Percent of patients with data\": 18.055555555555554}, {\"Number of hospitals\": \"data completion\", \"Percent of patients with data\": 92.85714285714286}, {\"Number of hospitals\": \"data completion\", \"Percent of patients with data\": 100.0}, {\"Number of hospitals\": \"data completion\", \"Percent of patients with data\": 18.541033434650455}, {\"Number of hospitals\": \"data completion\", \"Percent of patients with data\": 89.39393939393939}, {\"Number of hospitals\": \"data completion\", \"Percent of patients with data\": 81.81818181818183}, {\"Number of hospitals\": \"data completion\", \"Percent of patients with data\": 75.71428571428571}, {\"Number of hospitals\": \"data completion\", \"Percent of patients with data\": 83.60655737704919}, {\"Number of hospitals\": \"data completion\", \"Percent of patients with data\": 94.33962264150944}, {\"Number of hospitals\": \"data completion\", \"Percent of patients with data\": 87.5}, {\"Number of hospitals\": \"data completion\", \"Percent of patients with data\": 93.18181818181817}, {\"Number of hospitals\": \"data completion\", \"Percent of patients with data\": 100.0}, {\"Number of hospitals\": \"data completion\", \"Percent of patients with data\": 11.650485436893204}, {\"Number of hospitals\": \"data completion\", \"Percent of patients with data\": 7.439824945295405}, {\"Number of hospitals\": \"data completion\", \"Percent of patients with data\": 76.92307692307693}, {\"Number of hospitals\": \"data completion\", \"Percent of patients with data\": 93.54838709677419}, {\"Number of hospitals\": \"data completion\", \"Percent of patients with data\": 91.30434782608695}, {\"Number of hospitals\": \"data completion\", \"Percent of patients with data\": 85.0}, {\"Number of hospitals\": \"data completion\", \"Percent of patients with data\": 22.857142857142858}, {\"Number of hospitals\": \"data completion\", \"Percent of patients with data\": 66.66666666666666}, {\"Number of hospitals\": \"data completion\", \"Percent of patients with data\": 86.66666666666667}, {\"Number of hospitals\": \"data completion\", \"Percent of patients with data\": 85.71428571428571}, {\"Number of hospitals\": \"data completion\", \"Percent of patients with data\": 100.0}, {\"Number of hospitals\": \"data completion\", \"Percent of patients with data\": 60.0}, {\"Number of hospitals\": \"data completion\", \"Percent of patients with data\": 69.23076923076923}, {\"Number of hospitals\": \"data completion\", \"Percent of patients with data\": 100.0}, {\"Number of hospitals\": \"data completion\", \"Percent of patients with data\": 33.33333333333333}, {\"Number of hospitals\": \"data completion\", \"Percent of patients with data\": 1.5873015873015872}, {\"Number of hospitals\": \"data completion\", \"Percent of patients with data\": 53.333333333333336}, {\"Number of hospitals\": \"data completion\", \"Percent of patients with data\": 18.181818181818183}, {\"Number of hospitals\": \"data completion\", \"Percent of patients with data\": 100.0}, {\"Number of hospitals\": \"data completion\", \"Percent of patients with data\": 0.0}, {\"Number of hospitals\": \"data completion\", \"Percent of patients with data\": 0.0}, {\"Number of hospitals\": \"data completion\", \"Percent of patients with data\": 0.0}, {\"Number of hospitals\": \"data completion\", \"Percent of patients with data\": 0.0}, {\"Number of hospitals\": \"data completion\", \"Percent of patients with data\": 0.0}]}, \"width\": 450, \"$schema\": \"https://vega.github.io/schema/vega-lite/v2.json\", \"height\": 300, \"encoding\": {\"y\": {\"type\": \"quantitative\", \"aggregate\": \"count\", \"stack\": null}, \"x\": {\"field\": \"Percent of patients with data\", \"type\": \"quantitative\", \"bin\": {\"maxbins\": 10}}, \"color\": {\"field\": \"Number of hospitals\", \"type\": \"nominal\"}}};\n",
       "var selector = \"#165e2fc6-a69a-49c7-88c1-a30f3ac4e112\";\n",
       "var type = \"vega-lite\";\n",
       "\n",
       "var output_area = this;\n",
       "require(['nbextensions/jupyter-vega3/index'], function(vega) {\n",
       "  vega.render(selector, spec, type, output_area);\n",
       "}, function (err) {\n",
       "  if (err.requireType !== 'scripterror') {\n",
       "    throw(err);\n",
       "  }\n",
       "});\n"
      ]
     },
     "metadata": {
      "jupyter-vega3": "#165e2fc6-a69a-49c7-88c1-a30f3ac4e112"
     },
     "output_type": "display_data"
    },
    {
     "data": {
      "image/png": "[encoded data removed]"
     },
     "metadata": {
      "jupyter-vega3": "#165e2fc6-a69a-49c7-88c1-a30f3ac4e112"
     },
     "output_type": "display_data"
    }
   ],
   "source": [
    "df[['data completion']].vgplot.hist(bins=10,\n",
    "                                    var_name='Number of hospitals',\n",
    "                                    value_name='Percent of patients with data')"
   ]
  },
  {
   "cell_type": "markdown",
   "metadata": {},
   "source": [
    "Above we can see that around 10 hospitals have very few to no patients documented in the intakeOutput table (left side of histogram, 0-10% bin), while over 120 hospitals have 90-100% of patients with data in intakeOutput (right side of histogram, 0-90% bin). "
   ]
  }
 ],
 "metadata": {
  "front-matter": {
   "date": "2015-09-01",
   "linktitle": "admissiondrug",
   "title": "admissiondrug"
  },
  "kernelspec": {
   "display_name": "Python 3",
   "language": "python",
   "name": "python3"
  },
  "language_info": {
   "codemirror_mode": {
    "name": "ipython",
    "version": 3
   },
   "file_extension": ".py",
   "mimetype": "text/x-python",
   "name": "python",
   "nbconvert_exporter": "python",
   "pygments_lexer": "ipython3",
   "version": "3.5.2"
  }
 },
 "nbformat": 4,
 "nbformat_minor": 2
}
