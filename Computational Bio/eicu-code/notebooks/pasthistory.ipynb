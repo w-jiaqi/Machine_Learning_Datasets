{
 "cells": [
  {
   "cell_type": "markdown",
   "metadata": {},
   "source": [
    "# pastHistory\n",
    "\n",
    "Provides information related a patient’s relevant past medical history. Providing detailed past history is not common, but items such as AIDS, Cirrhosis of the Liver, Hepatic Failure, Chronic Renal Failure, Transplant, and Pre-existing Cancers / immunosuppression are more reliable because of their importance in severity outcome scoring."
   ]
  },
  {
   "cell_type": "code",
   "execution_count": 1,
   "metadata": {},
   "outputs": [
    {
     "name": "stderr",
     "output_type": "stream",
     "text": [
      "/home/alistairewj/.local/lib/python3.5/site-packages/psycopg2/__init__.py:144: UserWarning: The psycopg2 wheel package will be renamed from release 2.8; in order to keep installing from binary please use \"pip install psycopg2-binary\" instead. For details see: <http://initd.org/psycopg/docs/install.html#binary-install-from-pypi>.\n",
      "  \"\"\")\n"
     ]
    }
   ],
   "source": [
    "# Import libraries\n",
    "import numpy as np\n",
    "import pandas as pd\n",
    "import matplotlib.pyplot as plt\n",
    "import psycopg2\n",
    "import getpass\n",
    "import pdvega\n",
    "\n",
    "# for configuring connection \n",
    "from configobj import ConfigObj\n",
    "import os\n",
    "\n",
    "%matplotlib inline"
   ]
  },
  {
   "cell_type": "code",
   "execution_count": 2,
   "metadata": {},
   "outputs": [
    {
     "name": "stdout",
     "output_type": "stream",
     "text": [
      "Database: eicu\n",
      "Username: alistairewj\n"
     ]
    }
   ],
   "source": [
    "# Create a database connection using settings from config file\n",
    "config='../db/config.ini'\n",
    "\n",
    "# connection info\n",
    "conn_info = dict()\n",
    "if os.path.isfile(config):\n",
    "    config = ConfigObj(config)\n",
    "    conn_info[\"sqluser\"] = config['username']\n",
    "    conn_info[\"sqlpass\"] = config['password']\n",
    "    conn_info[\"sqlhost\"] = config['host']\n",
    "    conn_info[\"sqlport\"] = config['port']\n",
    "    conn_info[\"dbname\"] = config['dbname']\n",
    "    conn_info[\"schema_name\"] = config['schema_name']\n",
    "else:\n",
    "    conn_info[\"sqluser\"] = 'postgres'\n",
    "    conn_info[\"sqlpass\"] = ''\n",
    "    conn_info[\"sqlhost\"] = 'localhost'\n",
    "    conn_info[\"sqlport\"] = 5432\n",
    "    conn_info[\"dbname\"] = 'eicu'\n",
    "    conn_info[\"schema_name\"] = 'public,eicu_crd'\n",
    "    \n",
    "# Connect to the eICU database\n",
    "print('Database: {}'.format(conn_info['dbname']))\n",
    "print('Username: {}'.format(conn_info[\"sqluser\"]))\n",
    "if conn_info[\"sqlpass\"] == '':\n",
    "    # try connecting without password, i.e. peer or OS authentication\n",
    "    try:\n",
    "        if (conn_info[\"sqlhost\"] == 'localhost') & (conn_info[\"sqlport\"]=='5432'):\n",
    "            con = psycopg2.connect(dbname=conn_info[\"dbname\"],\n",
    "                                   user=conn_info[\"sqluser\"])            \n",
    "        else:\n",
    "            con = psycopg2.connect(dbname=conn_info[\"dbname\"],\n",
    "                                   host=conn_info[\"sqlhost\"],\n",
    "                                   port=conn_info[\"sqlport\"],\n",
    "                                   user=conn_info[\"sqluser\"])\n",
    "    except:\n",
    "        conn_info[\"sqlpass\"] = getpass.getpass('Password: ')\n",
    "\n",
    "        con = psycopg2.connect(dbname=conn_info[\"dbname\"],\n",
    "                               host=conn_info[\"sqlhost\"],\n",
    "                               port=conn_info[\"sqlport\"],\n",
    "                               user=conn_info[\"sqluser\"],\n",
    "                               password=conn_info[\"sqlpass\"])\n",
    "query_schema = 'set search_path to ' + conn_info['schema_name'] + ';'"
   ]
  },
  {
   "cell_type": "markdown",
   "metadata": {},
   "source": [
    "## Examine a single patient"
   ]
  },
  {
   "cell_type": "code",
   "execution_count": 3,
   "metadata": {},
   "outputs": [],
   "source": [
    "patientunitstayid = 141168"
   ]
  },
  {
   "cell_type": "code",
   "execution_count": 4,
   "metadata": {
    "scrolled": true
   },
   "outputs": [
    {
     "data": {
      "text/html": [
       "<div>\n",
       "<style scoped>\n",
       "    .dataframe tbody tr th:only-of-type {\n",
       "        vertical-align: middle;\n",
       "    }\n",
       "\n",
       "    .dataframe tbody tr th {\n",
       "        vertical-align: top;\n",
       "    }\n",
       "\n",
       "    .dataframe thead th {\n",
       "        text-align: right;\n",
       "    }\n",
       "</style>\n",
       "<table border=\"1\" class=\"dataframe\">\n",
       "  <thead>\n",
       "    <tr style=\"text-align: right;\">\n",
       "      <th></th>\n",
       "      <th>pasthistoryid</th>\n",
       "      <th>patientunitstayid</th>\n",
       "      <th>pasthistoryyear</th>\n",
       "      <th>pasthistorytime24</th>\n",
       "      <th>pasthistorytime</th>\n",
       "      <th>pasthistoryoffset</th>\n",
       "      <th>pasthistoryenteredyear</th>\n",
       "      <th>pasthistoryenteredtime24</th>\n",
       "      <th>pasthistoryenteredtime</th>\n",
       "      <th>pasthistoryenteredoffset</th>\n",
       "      <th>pasthistorynotetype</th>\n",
       "      <th>pasthistorypath</th>\n",
       "      <th>pasthistoryvalue</th>\n",
       "      <th>pasthistoryvaluetext</th>\n",
       "    </tr>\n",
       "  </thead>\n",
       "  <tbody>\n",
       "    <tr>\n",
       "      <th>0</th>\n",
       "      <td>1141834</td>\n",
       "      <td>141168</td>\n",
       "      <td>2015</td>\n",
       "      <td>16:54:00</td>\n",
       "      <td>evening</td>\n",
       "      <td>60</td>\n",
       "      <td>2015</td>\n",
       "      <td>17:06:46</td>\n",
       "      <td>evening</td>\n",
       "      <td>72</td>\n",
       "      <td>Comprehensive Progress</td>\n",
       "      <td>notes/Progress Notes/Past History/Organ System...</td>\n",
       "      <td>COPD  - no limitations</td>\n",
       "      <td>COPD  - no limitations</td>\n",
       "    </tr>\n",
       "    <tr>\n",
       "      <th>1</th>\n",
       "      <td>1141830</td>\n",
       "      <td>141168</td>\n",
       "      <td>2015</td>\n",
       "      <td>16:54:00</td>\n",
       "      <td>evening</td>\n",
       "      <td>60</td>\n",
       "      <td>2015</td>\n",
       "      <td>17:06:46</td>\n",
       "      <td>evening</td>\n",
       "      <td>72</td>\n",
       "      <td>Comprehensive Progress</td>\n",
       "      <td>notes/Progress Notes/Past History/Organ System...</td>\n",
       "      <td>hypertension requiring treatment</td>\n",
       "      <td>hypertension requiring treatment</td>\n",
       "    </tr>\n",
       "    <tr>\n",
       "      <th>2</th>\n",
       "      <td>1141826</td>\n",
       "      <td>141168</td>\n",
       "      <td>2015</td>\n",
       "      <td>16:54:00</td>\n",
       "      <td>evening</td>\n",
       "      <td>60</td>\n",
       "      <td>2015</td>\n",
       "      <td>17:06:46</td>\n",
       "      <td>evening</td>\n",
       "      <td>72</td>\n",
       "      <td>Comprehensive Progress</td>\n",
       "      <td>notes/Progress Notes/Past History/Past History...</td>\n",
       "      <td>Performed</td>\n",
       "      <td>Performed</td>\n",
       "    </tr>\n",
       "    <tr>\n",
       "      <th>3</th>\n",
       "      <td>1141829</td>\n",
       "      <td>141168</td>\n",
       "      <td>2015</td>\n",
       "      <td>16:54:00</td>\n",
       "      <td>evening</td>\n",
       "      <td>60</td>\n",
       "      <td>2015</td>\n",
       "      <td>17:06:46</td>\n",
       "      <td>evening</td>\n",
       "      <td>72</td>\n",
       "      <td>Comprehensive Progress</td>\n",
       "      <td>notes/Progress Notes/Past History/Organ System...</td>\n",
       "      <td>AICD</td>\n",
       "      <td>AICD</td>\n",
       "    </tr>\n",
       "    <tr>\n",
       "      <th>4</th>\n",
       "      <td>1141832</td>\n",
       "      <td>141168</td>\n",
       "      <td>2015</td>\n",
       "      <td>16:54:00</td>\n",
       "      <td>evening</td>\n",
       "      <td>60</td>\n",
       "      <td>2015</td>\n",
       "      <td>17:06:46</td>\n",
       "      <td>evening</td>\n",
       "      <td>72</td>\n",
       "      <td>Comprehensive Progress</td>\n",
       "      <td>notes/Progress Notes/Past History/Organ System...</td>\n",
       "      <td>renal failure- not currently dialyzed</td>\n",
       "      <td>renal failure- not currently dialyzed</td>\n",
       "    </tr>\n",
       "  </tbody>\n",
       "</table>\n",
       "</div>"
      ],
      "text/plain": [
       "   pasthistoryid  patientunitstayid  pasthistoryyear pasthistorytime24  \\\n",
       "0        1141834             141168             2015          16:54:00   \n",
       "1        1141830             141168             2015          16:54:00   \n",
       "2        1141826             141168             2015          16:54:00   \n",
       "3        1141829             141168             2015          16:54:00   \n",
       "4        1141832             141168             2015          16:54:00   \n",
       "\n",
       "  pasthistorytime  pasthistoryoffset  pasthistoryenteredyear  \\\n",
       "0         evening                 60                    2015   \n",
       "1         evening                 60                    2015   \n",
       "2         evening                 60                    2015   \n",
       "3         evening                 60                    2015   \n",
       "4         evening                 60                    2015   \n",
       "\n",
       "  pasthistoryenteredtime24 pasthistoryenteredtime  pasthistoryenteredoffset  \\\n",
       "0                 17:06:46                evening                        72   \n",
       "1                 17:06:46                evening                        72   \n",
       "2                 17:06:46                evening                        72   \n",
       "3                 17:06:46                evening                        72   \n",
       "4                 17:06:46                evening                        72   \n",
       "\n",
       "      pasthistorynotetype                                    pasthistorypath  \\\n",
       "0  Comprehensive Progress  notes/Progress Notes/Past History/Organ System...   \n",
       "1  Comprehensive Progress  notes/Progress Notes/Past History/Organ System...   \n",
       "2  Comprehensive Progress  notes/Progress Notes/Past History/Past History...   \n",
       "3  Comprehensive Progress  notes/Progress Notes/Past History/Organ System...   \n",
       "4  Comprehensive Progress  notes/Progress Notes/Past History/Organ System...   \n",
       "\n",
       "                        pasthistoryvalue  \\\n",
       "0                 COPD  - no limitations   \n",
       "1       hypertension requiring treatment   \n",
       "2                              Performed   \n",
       "3                                   AICD   \n",
       "4  renal failure- not currently dialyzed   \n",
       "\n",
       "                    pasthistoryvaluetext  \n",
       "0                 COPD  - no limitations  \n",
       "1       hypertension requiring treatment  \n",
       "2                              Performed  \n",
       "3                                   AICD  \n",
       "4  renal failure- not currently dialyzed  "
      ]
     },
     "execution_count": 4,
     "metadata": {},
     "output_type": "execute_result"
    }
   ],
   "source": [
    "query = query_schema + \"\"\"\n",
    "select *\n",
    "from pasthistory\n",
    "where patientunitstayid = {}\n",
    "order by pasthistoryoffset\n",
    "\"\"\".format(patientunitstayid)\n",
    "\n",
    "df = pd.read_sql_query(query, con)\n",
    "df.head()"
   ]
  },
  {
   "cell_type": "markdown",
   "metadata": {},
   "source": [
    "We can make a few observations:\n",
    "\n",
    "* `pasthistorypath` is a slash delimited (`/`) hierarchical categorization of the past history recorded\n",
    "* `pasthistoryvalue` and `pasthistoryvaluetext` are often identical\n",
    "* `pasthistoryoffset` is the time of the condition, while `pasthistoryenteredoffset` is when it was documented, though from above it appears the `pasthistoryoffset` is not necessarily the start time of the condition"
   ]
  },
  {
   "cell_type": "markdown",
   "metadata": {},
   "source": [
    "## Identifying COPD patients"
   ]
  },
  {
   "cell_type": "markdown",
   "metadata": {},
   "source": [
    "Let's look for patients who were admitted with a past history of COPD."
   ]
  },
  {
   "cell_type": "code",
   "execution_count": 5,
   "metadata": {},
   "outputs": [
    {
     "data": {
      "text/html": [
       "<div>\n",
       "<style scoped>\n",
       "    .dataframe tbody tr th:only-of-type {\n",
       "        vertical-align: middle;\n",
       "    }\n",
       "\n",
       "    .dataframe tbody tr th {\n",
       "        vertical-align: top;\n",
       "    }\n",
       "\n",
       "    .dataframe thead th {\n",
       "        text-align: right;\n",
       "    }\n",
       "</style>\n",
       "<table border=\"1\" class=\"dataframe\">\n",
       "  <thead>\n",
       "    <tr style=\"text-align: right;\">\n",
       "      <th></th>\n",
       "      <th>pasthistoryvalue</th>\n",
       "      <th>n</th>\n",
       "    </tr>\n",
       "  </thead>\n",
       "  <tbody>\n",
       "    <tr>\n",
       "      <th>0</th>\n",
       "      <td>COPD  - no limitations</td>\n",
       "      <td>13373</td>\n",
       "    </tr>\n",
       "    <tr>\n",
       "      <th>1</th>\n",
       "      <td>COPD  - moderate</td>\n",
       "      <td>22622</td>\n",
       "    </tr>\n",
       "    <tr>\n",
       "      <th>2</th>\n",
       "      <td>COPD  - severe</td>\n",
       "      <td>11596</td>\n",
       "    </tr>\n",
       "  </tbody>\n",
       "</table>\n",
       "</div>"
      ],
      "text/plain": [
       "         pasthistoryvalue      n\n",
       "0  COPD  - no limitations  13373\n",
       "1        COPD  - moderate  22622\n",
       "2          COPD  - severe  11596"
      ]
     },
     "execution_count": 5,
     "metadata": {},
     "output_type": "execute_result"
    }
   ],
   "source": [
    "dx = 'COPD'\n",
    "query = query_schema + \"\"\"\n",
    "select \n",
    "  pasthistoryvalue, count(*) as n\n",
    "from pasthistory\n",
    "where pasthistoryvalue ilike '%{}%'\n",
    "group by pasthistoryvalue\n",
    "\"\"\".format(dx)\n",
    "\n",
    "df_copd = pd.read_sql_query(query, con)\n",
    "df_copd"
   ]
  },
  {
   "cell_type": "code",
   "execution_count": 6,
   "metadata": {
    "scrolled": true
   },
   "outputs": [
    {
     "name": "stdout",
     "output_type": "stream",
     "text": [
      "27123 unit stays with COPD.\n"
     ]
    }
   ],
   "source": [
    "dx = 'COPD'\n",
    "query = query_schema + \"\"\"\n",
    "select \n",
    "  patientunitstayid, count(*) as n\n",
    "from pasthistory\n",
    "where pasthistoryvalue ilike '%{}%'\n",
    "group by patientunitstayid\n",
    "\"\"\".format(dx)\n",
    "\n",
    "df_copd = pd.read_sql_query(query, con)\n",
    "print('{} unit stays with {}.'.format(df_copd.shape[0], dx))"
   ]
  },
  {
   "cell_type": "markdown",
   "metadata": {},
   "source": [
    "## Hospitals with data available"
   ]
  },
  {
   "cell_type": "code",
   "execution_count": 7,
   "metadata": {},
   "outputs": [
    {
     "data": {
      "text/html": [
       "<div>\n",
       "<style scoped>\n",
       "    .dataframe tbody tr th:only-of-type {\n",
       "        vertical-align: middle;\n",
       "    }\n",
       "\n",
       "    .dataframe tbody tr th {\n",
       "        vertical-align: top;\n",
       "    }\n",
       "\n",
       "    .dataframe thead th {\n",
       "        text-align: right;\n",
       "    }\n",
       "</style>\n",
       "<table border=\"1\" class=\"dataframe\">\n",
       "  <thead>\n",
       "    <tr style=\"text-align: right;\">\n",
       "      <th></th>\n",
       "      <th>hospitalid</th>\n",
       "      <th>number_of_patients</th>\n",
       "      <th>number_of_patients_with_tbl</th>\n",
       "      <th>data completion</th>\n",
       "    </tr>\n",
       "  </thead>\n",
       "  <tbody>\n",
       "    <tr>\n",
       "      <th>11</th>\n",
       "      <td>73</td>\n",
       "      <td>7059</td>\n",
       "      <td>6050</td>\n",
       "      <td>85.706191</td>\n",
       "    </tr>\n",
       "    <tr>\n",
       "      <th>106</th>\n",
       "      <td>264</td>\n",
       "      <td>5237</td>\n",
       "      <td>4863</td>\n",
       "      <td>92.858507</td>\n",
       "    </tr>\n",
       "    <tr>\n",
       "      <th>184</th>\n",
       "      <td>420</td>\n",
       "      <td>4679</td>\n",
       "      <td>4467</td>\n",
       "      <td>95.469117</td>\n",
       "    </tr>\n",
       "    <tr>\n",
       "      <th>134</th>\n",
       "      <td>338</td>\n",
       "      <td>4277</td>\n",
       "      <td>4222</td>\n",
       "      <td>98.714052</td>\n",
       "    </tr>\n",
       "    <tr>\n",
       "      <th>90</th>\n",
       "      <td>243</td>\n",
       "      <td>4243</td>\n",
       "      <td>4093</td>\n",
       "      <td>96.464765</td>\n",
       "    </tr>\n",
       "    <tr>\n",
       "      <th>54</th>\n",
       "      <td>167</td>\n",
       "      <td>6092</td>\n",
       "      <td>3779</td>\n",
       "      <td>62.032173</td>\n",
       "    </tr>\n",
       "    <tr>\n",
       "      <th>206</th>\n",
       "      <td>458</td>\n",
       "      <td>3701</td>\n",
       "      <td>3623</td>\n",
       "      <td>97.892461</td>\n",
       "    </tr>\n",
       "    <tr>\n",
       "      <th>200</th>\n",
       "      <td>443</td>\n",
       "      <td>3656</td>\n",
       "      <td>3589</td>\n",
       "      <td>98.167396</td>\n",
       "    </tr>\n",
       "    <tr>\n",
       "      <th>122</th>\n",
       "      <td>300</td>\n",
       "      <td>3617</td>\n",
       "      <td>3544</td>\n",
       "      <td>97.981753</td>\n",
       "    </tr>\n",
       "    <tr>\n",
       "      <th>80</th>\n",
       "      <td>208</td>\n",
       "      <td>3650</td>\n",
       "      <td>3403</td>\n",
       "      <td>93.232877</td>\n",
       "    </tr>\n",
       "  </tbody>\n",
       "</table>\n",
       "</div>"
      ],
      "text/plain": [
       "     hospitalid  number_of_patients  number_of_patients_with_tbl  \\\n",
       "11           73                7059                         6050   \n",
       "106         264                5237                         4863   \n",
       "184         420                4679                         4467   \n",
       "134         338                4277                         4222   \n",
       "90          243                4243                         4093   \n",
       "54          167                6092                         3779   \n",
       "206         458                3701                         3623   \n",
       "200         443                3656                         3589   \n",
       "122         300                3617                         3544   \n",
       "80          208                3650                         3403   \n",
       "\n",
       "     data completion  \n",
       "11         85.706191  \n",
       "106        92.858507  \n",
       "184        95.469117  \n",
       "134        98.714052  \n",
       "90         96.464765  \n",
       "54         62.032173  \n",
       "206        97.892461  \n",
       "200        98.167396  \n",
       "122        97.981753  \n",
       "80         93.232877  "
      ]
     },
     "execution_count": 7,
     "metadata": {},
     "output_type": "execute_result"
    }
   ],
   "source": [
    "query = query_schema + \"\"\"\n",
    "with t as\n",
    "(\n",
    "select distinct patientunitstayid\n",
    "from pasthistory\n",
    ")\n",
    "select \n",
    "  pt.hospitalid\n",
    "  , count(distinct pt.patientunitstayid) as number_of_patients\n",
    "  , count(distinct t.patientunitstayid) as number_of_patients_with_tbl\n",
    "from patient pt\n",
    "left join t\n",
    "  on pt.patientunitstayid = t.patientunitstayid\n",
    "group by pt.hospitalid\n",
    "\"\"\".format(patientunitstayid)\n",
    "\n",
    "df = pd.read_sql_query(query, con)\n",
    "df['data completion'] = df['number_of_patients_with_tbl'] / df['number_of_patients'] * 100.0\n",
    "df.sort_values('number_of_patients_with_tbl', ascending=False, inplace=True)\n",
    "df.head(n=10)"
   ]
  },
  {
   "cell_type": "code",
   "execution_count": 8,
   "metadata": {},
   "outputs": [
    {
     "data": {
      "text/html": [
       "<div class=\"vega-embed\" id=\"62cd6a83-cd85-4d87-bcc9-485981953b20\"></div>\n",
       "\n",
       "<style>\n",
       ".vega-embed svg, .vega-embed canvas {\n",
       "  border: 1px dotted gray;\n",
       "}\n",
       "\n",
       ".vega-embed .vega-actions a {\n",
       "  margin-right: 6px;\n",
       "}\n",
       "</style>\n"
      ]
     },
     "metadata": {
      "jupyter-vega3": "#62cd6a83-cd85-4d87-bcc9-485981953b20"
     },
     "output_type": "display_data"
    },
    {
     "data": {
      "application/javascript": [
       "var spec = {\"selection\": {\"grid\": {\"type\": \"interval\", \"bind\": \"scales\"}}, \"encoding\": {\"color\": {\"type\": \"nominal\", \"field\": \"Number of hospitals\"}, \"x\": {\"type\": \"quantitative\", \"bin\": {\"maxbins\": 10}, \"field\": \"Percent of patients with data\"}, \"y\": {\"aggregate\": \"count\", \"type\": \"quantitative\", \"stack\": null}}, \"width\": 450, \"height\": 300, \"mark\": \"bar\", \"data\": {\"values\": [{\"Percent of patients with data\": 85.70619067856637, \"Number of hospitals\": \"data completion\"}, {\"Percent of patients with data\": 92.85850677869009, \"Number of hospitals\": \"data completion\"}, {\"Percent of patients with data\": 95.4691173327634, \"Number of hospitals\": \"data completion\"}, {\"Percent of patients with data\": 98.71405190554127, \"Number of hospitals\": \"data completion\"}, {\"Percent of patients with data\": 96.46476549611124, \"Number of hospitals\": \"data completion\"}, {\"Percent of patients with data\": 62.03217334208798, \"Number of hospitals\": \"data completion\"}, {\"Percent of patients with data\": 97.89246149689274, \"Number of hospitals\": \"data completion\"}, {\"Percent of patients with data\": 98.16739606126916, \"Number of hospitals\": \"data completion\"}, {\"Percent of patients with data\": 97.98175283384019, \"Number of hospitals\": \"data completion\"}, {\"Percent of patients with data\": 93.23287671232877, \"Number of hospitals\": \"data completion\"}, {\"Percent of patients with data\": 98.16078315040048, \"Number of hospitals\": \"data completion\"}, {\"Percent of patients with data\": 73.5377358490566, \"Number of hospitals\": \"data completion\"}, {\"Percent of patients with data\": 90.99718662081901, \"Number of hospitals\": \"data completion\"}, {\"Percent of patients with data\": 97.27983679020741, \"Number of hospitals\": \"data completion\"}, {\"Percent of patients with data\": 64.78743068391867, \"Number of hospitals\": \"data completion\"}, {\"Percent of patients with data\": 76.86753679533463, \"Number of hospitals\": \"data completion\"}, {\"Percent of patients with data\": 98.10351639668116, \"Number of hospitals\": \"data completion\"}, {\"Percent of patients with data\": 97.71878888428039, \"Number of hospitals\": \"data completion\"}, {\"Percent of patients with data\": 99.57345971563981, \"Number of hospitals\": \"data completion\"}, {\"Percent of patients with data\": 98.85550786838341, \"Number of hospitals\": \"data completion\"}, {\"Percent of patients with data\": 95.1581975071908, \"Number of hospitals\": \"data completion\"}, {\"Percent of patients with data\": 63.904356370782835, \"Number of hospitals\": \"data completion\"}, {\"Percent of patients with data\": 67.37244012495661, \"Number of hospitals\": \"data completion\"}, {\"Percent of patients with data\": 92.87776708373437, \"Number of hospitals\": \"data completion\"}, {\"Percent of patients with data\": 98.50283944243677, \"Number of hospitals\": \"data completion\"}, {\"Percent of patients with data\": 98.54290339989207, \"Number of hospitals\": \"data completion\"}, {\"Percent of patients with data\": 89.59183673469387, \"Number of hospitals\": \"data completion\"}, {\"Percent of patients with data\": 82.10772833723652, \"Number of hospitals\": \"data completion\"}, {\"Percent of patients with data\": 62.16601353758461, \"Number of hospitals\": \"data completion\"}, {\"Percent of patients with data\": 99.08987485779295, \"Number of hospitals\": \"data completion\"}, {\"Percent of patients with data\": 94.98346196251379, \"Number of hospitals\": \"data completion\"}, {\"Percent of patients with data\": 83.15998018821199, \"Number of hospitals\": \"data completion\"}, {\"Percent of patients with data\": 94.05162738496072, \"Number of hospitals\": \"data completion\"}, {\"Percent of patients with data\": 98.98688915375446, \"Number of hospitals\": \"data completion\"}, {\"Percent of patients with data\": 99.18546365914787, \"Number of hospitals\": \"data completion\"}, {\"Percent of patients with data\": 96.49234693877551, \"Number of hospitals\": \"data completion\"}, {\"Percent of patients with data\": 99.47124917382683, \"Number of hospitals\": \"data completion\"}, {\"Percent of patients with data\": 96.56290531776914, \"Number of hospitals\": \"data completion\"}, {\"Percent of patients with data\": 99.3801652892562, \"Number of hospitals\": \"data completion\"}, {\"Percent of patients with data\": 88.15354070152218, \"Number of hospitals\": \"data completion\"}, {\"Percent of patients with data\": 99.47683109118086, \"Number of hospitals\": \"data completion\"}, {\"Percent of patients with data\": 99.46686976389947, \"Number of hospitals\": \"data completion\"}, {\"Percent of patients with data\": 69.01333333333334, \"Number of hospitals\": \"data completion\"}, {\"Percent of patients with data\": 61.376673040152966, \"Number of hospitals\": \"data completion\"}, {\"Percent of patients with data\": 98.50746268656717, \"Number of hospitals\": \"data completion\"}, {\"Percent of patients with data\": 94.50889404485692, \"Number of hospitals\": \"data completion\"}, {\"Percent of patients with data\": 98.30917874396135, \"Number of hospitals\": \"data completion\"}, {\"Percent of patients with data\": 67.77332570120205, \"Number of hospitals\": \"data completion\"}, {\"Percent of patients with data\": 98.04088586030664, \"Number of hospitals\": \"data completion\"}, {\"Percent of patients with data\": 95.62289562289563, \"Number of hospitals\": \"data completion\"}, {\"Percent of patients with data\": 61.71960569550931, \"Number of hospitals\": \"data completion\"}, {\"Percent of patients with data\": 89.01185770750988, \"Number of hospitals\": \"data completion\"}, {\"Percent of patients with data\": 53.2825880114177, \"Number of hospitals\": \"data completion\"}, {\"Percent of patients with data\": 98.59030837004406, \"Number of hospitals\": \"data completion\"}, {\"Percent of patients with data\": 90.22617124394185, \"Number of hospitals\": \"data completion\"}, {\"Percent of patients with data\": 99.36823104693141, \"Number of hospitals\": \"data completion\"}, {\"Percent of patients with data\": 99.9084249084249, \"Number of hospitals\": \"data completion\"}, {\"Percent of patients with data\": 67.3076923076923, \"Number of hospitals\": \"data completion\"}, {\"Percent of patients with data\": 99.14691943127963, \"Number of hospitals\": \"data completion\"}, {\"Percent of patients with data\": 99.31573802541544, \"Number of hospitals\": \"data completion\"}, {\"Percent of patients with data\": 99.59677419354838, \"Number of hospitals\": \"data completion\"}, {\"Percent of patients with data\": 99.49186991869918, \"Number of hospitals\": \"data completion\"}, {\"Percent of patients with data\": 98.37067209775967, \"Number of hospitals\": \"data completion\"}, {\"Percent of patients with data\": 99.38208032955716, \"Number of hospitals\": \"data completion\"}, {\"Percent of patients with data\": 99.26082365364309, \"Number of hospitals\": \"data completion\"}, {\"Percent of patients with data\": 99.33701657458563, \"Number of hospitals\": \"data completion\"}, {\"Percent of patients with data\": 96.65948275862068, \"Number of hospitals\": \"data completion\"}, {\"Percent of patients with data\": 82.66166822867854, \"Number of hospitals\": \"data completion\"}, {\"Percent of patients with data\": 98.97025171624713, \"Number of hospitals\": \"data completion\"}, {\"Percent of patients with data\": 74.56293706293707, \"Number of hospitals\": \"data completion\"}, {\"Percent of patients with data\": 97.95180722891567, \"Number of hospitals\": \"data completion\"}, {\"Percent of patients with data\": 97.92935444579781, \"Number of hospitals\": \"data completion\"}, {\"Percent of patients with data\": 77.08129285014691, \"Number of hospitals\": \"data completion\"}, {\"Percent of patients with data\": 77.54491017964071, \"Number of hospitals\": \"data completion\"}, {\"Percent of patients with data\": 97.89473684210527, \"Number of hospitals\": \"data completion\"}, {\"Percent of patients with data\": 98.9261744966443, \"Number of hospitals\": \"data completion\"}, {\"Percent of patients with data\": 99.44903581267218, \"Number of hospitals\": \"data completion\"}, {\"Percent of patients with data\": 97.03903095558546, \"Number of hospitals\": \"data completion\"}, {\"Percent of patients with data\": 99.72027972027972, \"Number of hospitals\": \"data completion\"}, {\"Percent of patients with data\": 97.93672627235213, \"Number of hospitals\": \"data completion\"}, {\"Percent of patients with data\": 99.43820224719101, \"Number of hospitals\": \"data completion\"}, {\"Percent of patients with data\": 99.13669064748201, \"Number of hospitals\": \"data completion\"}, {\"Percent of patients with data\": 97.26443768996961, \"Number of hospitals\": \"data completion\"}, {\"Percent of patients with data\": 99.2, \"Number of hospitals\": \"data completion\"}, {\"Percent of patients with data\": 96.87010954616588, \"Number of hospitals\": \"data completion\"}, {\"Percent of patients with data\": 98.65996649916248, \"Number of hospitals\": \"data completion\"}, {\"Percent of patients with data\": 99.1554054054054, \"Number of hospitals\": \"data completion\"}, {\"Percent of patients with data\": 99.65928449744463, \"Number of hospitals\": \"data completion\"}, {\"Percent of patients with data\": 84.22575976845152, \"Number of hospitals\": \"data completion\"}, {\"Percent of patients with data\": 99.14675767918088, \"Number of hospitals\": \"data completion\"}, {\"Percent of patients with data\": 96.9439728353141, \"Number of hospitals\": \"data completion\"}, {\"Percent of patients with data\": 99.47643979057592, \"Number of hospitals\": \"data completion\"}, {\"Percent of patients with data\": 98.78260869565217, \"Number of hospitals\": \"data completion\"}, {\"Percent of patients with data\": 96.75767918088737, \"Number of hospitals\": \"data completion\"}, {\"Percent of patients with data\": 95.59082892416225, \"Number of hospitals\": \"data completion\"}, {\"Percent of patients with data\": 97.8102189781022, \"Number of hospitals\": \"data completion\"}, {\"Percent of patients with data\": 62.08920187793427, \"Number of hospitals\": \"data completion\"}, {\"Percent of patients with data\": 98.3271375464684, \"Number of hospitals\": \"data completion\"}, {\"Percent of patients with data\": 99.24098671726756, \"Number of hospitals\": \"data completion\"}, {\"Percent of patients with data\": 80.99041533546327, \"Number of hospitals\": \"data completion\"}, {\"Percent of patients with data\": 95.23809523809523, \"Number of hospitals\": \"data completion\"}, {\"Percent of patients with data\": 99.00199600798403, \"Number of hospitals\": \"data completion\"}, {\"Percent of patients with data\": 56.79156908665105, \"Number of hospitals\": \"data completion\"}, {\"Percent of patients with data\": 98.97119341563786, \"Number of hospitals\": \"data completion\"}, {\"Percent of patients with data\": 93.92712550607287, \"Number of hospitals\": \"data completion\"}, {\"Percent of patients with data\": 63.6237897648686, \"Number of hospitals\": \"data completion\"}, {\"Percent of patients with data\": 98.49137931034483, \"Number of hospitals\": \"data completion\"}, {\"Percent of patients with data\": 98.24945295404814, \"Number of hospitals\": \"data completion\"}, {\"Percent of patients with data\": 75.38200339558574, \"Number of hospitals\": \"data completion\"}, {\"Percent of patients with data\": 98.2102908277405, \"Number of hospitals\": \"data completion\"}, {\"Percent of patients with data\": 60.97560975609756, \"Number of hospitals\": \"data completion\"}, {\"Percent of patients with data\": 60.40462427745664, \"Number of hospitals\": \"data completion\"}, {\"Percent of patients with data\": 98.2843137254902, \"Number of hospitals\": \"data completion\"}, {\"Percent of patients with data\": 96.59367396593674, \"Number of hospitals\": \"data completion\"}, {\"Percent of patients with data\": 98.0246913580247, \"Number of hospitals\": \"data completion\"}, {\"Percent of patients with data\": 91.44254278728606, \"Number of hospitals\": \"data completion\"}, {\"Percent of patients with data\": 98.15303430079155, \"Number of hospitals\": \"data completion\"}, {\"Percent of patients with data\": 97.8891820580475, \"Number of hospitals\": \"data completion\"}, {\"Percent of patients with data\": 99.1825613079019, \"Number of hospitals\": \"data completion\"}, {\"Percent of patients with data\": 94.22572178477691, \"Number of hospitals\": \"data completion\"}, {\"Percent of patients with data\": 99.72222222222223, \"Number of hospitals\": \"data completion\"}, {\"Percent of patients with data\": 99.16201117318437, \"Number of hospitals\": \"data completion\"}, {\"Percent of patients with data\": 99.43502824858757, \"Number of hospitals\": \"data completion\"}, {\"Percent of patients with data\": 84.50363196125909, \"Number of hospitals\": \"data completion\"}, {\"Percent of patients with data\": 91.53439153439153, \"Number of hospitals\": \"data completion\"}, {\"Percent of patients with data\": 60.48951048951049, \"Number of hospitals\": \"data completion\"}, {\"Percent of patients with data\": 96.27507163323781, \"Number of hospitals\": \"data completion\"}, {\"Percent of patients with data\": 68.0161943319838, \"Number of hospitals\": \"data completion\"}, {\"Percent of patients with data\": 89.27613941018767, \"Number of hospitals\": \"data completion\"}, {\"Percent of patients with data\": 99.39024390243902, \"Number of hospitals\": \"data completion\"}, {\"Percent of patients with data\": 98.78419452887537, \"Number of hospitals\": \"data completion\"}, {\"Percent of patients with data\": 91.61849710982659, \"Number of hospitals\": \"data completion\"}, {\"Percent of patients with data\": 97.16981132075472, \"Number of hospitals\": \"data completion\"}, {\"Percent of patients with data\": 62.298387096774185, \"Number of hospitals\": \"data completion\"}, {\"Percent of patients with data\": 98.05825242718447, \"Number of hospitals\": \"data completion\"}, {\"Percent of patients with data\": 96.75324675324676, \"Number of hospitals\": \"data completion\"}, {\"Percent of patients with data\": 63.97379912663755, \"Number of hospitals\": \"data completion\"}, {\"Percent of patients with data\": 93.79084967320262, \"Number of hospitals\": \"data completion\"}, {\"Percent of patients with data\": 99.65034965034964, \"Number of hospitals\": \"data completion\"}, {\"Percent of patients with data\": 98.0392156862745, \"Number of hospitals\": \"data completion\"}, {\"Percent of patients with data\": 97.265625, \"Number of hospitals\": \"data completion\"}, {\"Percent of patients with data\": 78.54889589905363, \"Number of hospitals\": \"data completion\"}, {\"Percent of patients with data\": 96.07843137254902, \"Number of hospitals\": \"data completion\"}, {\"Percent of patients with data\": 97.95918367346938, \"Number of hospitals\": \"data completion\"}, {\"Percent of patients with data\": 95.95141700404858, \"Number of hospitals\": \"data completion\"}, {\"Percent of patients with data\": 33.52941176470588, \"Number of hospitals\": \"data completion\"}, {\"Percent of patients with data\": 98.68421052631578, \"Number of hospitals\": \"data completion\"}, {\"Percent of patients with data\": 95.70815450643777, \"Number of hospitals\": \"data completion\"}, {\"Percent of patients with data\": 98.66666666666667, \"Number of hospitals\": \"data completion\"}, {\"Percent of patients with data\": 67.91277258566979, \"Number of hospitals\": \"data completion\"}, {\"Percent of patients with data\": 97.74774774774775, \"Number of hospitals\": \"data completion\"}, {\"Percent of patients with data\": 97.6958525345622, \"Number of hospitals\": \"data completion\"}, {\"Percent of patients with data\": 99.04761904761905, \"Number of hospitals\": \"data completion\"}, {\"Percent of patients with data\": 64.0, \"Number of hospitals\": \"data completion\"}, {\"Percent of patients with data\": 97.92746113989638, \"Number of hospitals\": \"data completion\"}, {\"Percent of patients with data\": 89.8989898989899, \"Number of hospitals\": \"data completion\"}, {\"Percent of patients with data\": 98.83040935672514, \"Number of hospitals\": \"data completion\"}, {\"Percent of patients with data\": 95.45454545454545, \"Number of hospitals\": \"data completion\"}, {\"Percent of patients with data\": 71.67381974248927, \"Number of hospitals\": \"data completion\"}, {\"Percent of patients with data\": 72.27272727272728, \"Number of hospitals\": \"data completion\"}, {\"Percent of patients with data\": 44.38202247191011, \"Number of hospitals\": \"data completion\"}, {\"Percent of patients with data\": 98.125, \"Number of hospitals\": \"data completion\"}, {\"Percent of patients with data\": 98.67549668874173, \"Number of hospitals\": \"data completion\"}, {\"Percent of patients with data\": 77.40112994350282, \"Number of hospitals\": \"data completion\"}, {\"Percent of patients with data\": 97.05882352941177, \"Number of hospitals\": \"data completion\"}, {\"Percent of patients with data\": 99.21259842519686, \"Number of hospitals\": \"data completion\"}, {\"Percent of patients with data\": 98.38709677419355, \"Number of hospitals\": \"data completion\"}, {\"Percent of patients with data\": 92.36641221374046, \"Number of hospitals\": \"data completion\"}, {\"Percent of patients with data\": 88.52459016393442, \"Number of hospitals\": \"data completion\"}, {\"Percent of patients with data\": 92.7927927927928, \"Number of hospitals\": \"data completion\"}, {\"Percent of patients with data\": 77.86259541984732, \"Number of hospitals\": \"data completion\"}, {\"Percent of patients with data\": 70.13888888888889, \"Number of hospitals\": \"data completion\"}, {\"Percent of patients with data\": 28.807947019867548, \"Number of hospitals\": \"data completion\"}, {\"Percent of patients with data\": 100.0, \"Number of hospitals\": \"data completion\"}, {\"Percent of patients with data\": 27.626459143968873, \"Number of hospitals\": \"data completion\"}, {\"Percent of patients with data\": 100.0, \"Number of hospitals\": \"data completion\"}, {\"Percent of patients with data\": 82.71604938271605, \"Number of hospitals\": \"data completion\"}, {\"Percent of patients with data\": 92.85714285714286, \"Number of hospitals\": \"data completion\"}, {\"Percent of patients with data\": 95.45454545454545, \"Number of hospitals\": \"data completion\"}, {\"Percent of patients with data\": 95.45454545454545, \"Number of hospitals\": \"data completion\"}, {\"Percent of patients with data\": 98.38709677419355, \"Number of hospitals\": \"data completion\"}, {\"Percent of patients with data\": 96.72131147540983, \"Number of hospitals\": \"data completion\"}, {\"Percent of patients with data\": 98.21428571428571, \"Number of hospitals\": \"data completion\"}, {\"Percent of patients with data\": 75.71428571428571, \"Number of hospitals\": \"data completion\"}, {\"Percent of patients with data\": 98.11320754716981, \"Number of hospitals\": \"data completion\"}, {\"Percent of patients with data\": 90.74074074074075, \"Number of hospitals\": \"data completion\"}, {\"Percent of patients with data\": 97.72727272727273, \"Number of hospitals\": \"data completion\"}, {\"Percent of patients with data\": 62.903225806451616, \"Number of hospitals\": \"data completion\"}, {\"Percent of patients with data\": 92.5, \"Number of hospitals\": \"data completion\"}, {\"Percent of patients with data\": 94.87179487179486, \"Number of hospitals\": \"data completion\"}, {\"Percent of patients with data\": 100.0, \"Number of hospitals\": \"data completion\"}, {\"Percent of patients with data\": 100.0, \"Number of hospitals\": \"data completion\"}, {\"Percent of patients with data\": 73.91304347826086, \"Number of hospitals\": \"data completion\"}, {\"Percent of patients with data\": 85.0, \"Number of hospitals\": \"data completion\"}, {\"Percent of patients with data\": 48.484848484848484, \"Number of hospitals\": \"data completion\"}, {\"Percent of patients with data\": 100.0, \"Number of hospitals\": \"data completion\"}, {\"Percent of patients with data\": 100.0, \"Number of hospitals\": \"data completion\"}, {\"Percent of patients with data\": 93.33333333333333, \"Number of hospitals\": \"data completion\"}, {\"Percent of patients with data\": 100.0, \"Number of hospitals\": \"data completion\"}, {\"Percent of patients with data\": 100.0, \"Number of hospitals\": \"data completion\"}, {\"Percent of patients with data\": 71.42857142857143, \"Number of hospitals\": \"data completion\"}, {\"Percent of patients with data\": 50.0, \"Number of hospitals\": \"data completion\"}, {\"Percent of patients with data\": 100.0, \"Number of hospitals\": \"data completion\"}, {\"Percent of patients with data\": 25.925925925925924, \"Number of hospitals\": \"data completion\"}, {\"Percent of patients with data\": 100.0, \"Number of hospitals\": \"data completion\"}, {\"Percent of patients with data\": 100.0, \"Number of hospitals\": \"data completion\"}, {\"Percent of patients with data\": 0.9302325581395349, \"Number of hospitals\": \"data completion\"}, {\"Percent of patients with data\": 0.0, \"Number of hospitals\": \"data completion\"}]}, \"$schema\": \"https://vega.github.io/schema/vega-lite/v2.json\"};\n",
       "var selector = \"#62cd6a83-cd85-4d87-bcc9-485981953b20\";\n",
       "var type = \"vega-lite\";\n",
       "\n",
       "var output_area = this;\n",
       "require(['nbextensions/jupyter-vega3/index'], function(vega) {\n",
       "  vega.render(selector, spec, type, output_area);\n",
       "}, function (err) {\n",
       "  if (err.requireType !== 'scripterror') {\n",
       "    throw(err);\n",
       "  }\n",
       "});\n"
      ]
     },
     "metadata": {
      "jupyter-vega3": "#62cd6a83-cd85-4d87-bcc9-485981953b20"
     },
     "output_type": "display_data"
    },
    {
     "data": {
      "image/png": "[encoded data removed]"
     },
     "metadata": {
      "jupyter-vega3": "#62cd6a83-cd85-4d87-bcc9-485981953b20"
     },
     "output_type": "display_data"
    }
   ],
   "source": [
    "df[['data completion']].vgplot.hist(bins=10,\n",
    "                                    var_name='Number of hospitals',\n",
    "                                    value_name='Percent of patients with data')"
   ]
  },
  {
   "cell_type": "markdown",
   "metadata": {},
   "source": [
    "The majority of hospitals have data for the pasthistory table, again likely due to its importance for certain severity of illness scoring systems."
   ]
  }
 ],
 "metadata": {
  "front-matter": {
   "date": "2015-09-01",
   "linktitle": "admissiondrug",
   "title": "admissiondrug"
  },
  "kernelspec": {
   "display_name": "Python 3",
   "language": "python",
   "name": "python3"
  },
  "language_info": {
   "codemirror_mode": {
    "name": "ipython",
    "version": 3
   },
   "file_extension": ".py",
   "mimetype": "text/x-python",
   "name": "python",
   "nbconvert_exporter": "python",
   "pygments_lexer": "ipython3",
   "version": "3.5.2"
  }
 },
 "nbformat": 4,
 "nbformat_minor": 2
}
