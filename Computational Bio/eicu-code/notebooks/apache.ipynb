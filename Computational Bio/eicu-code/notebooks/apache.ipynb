{
 "cells": [
  {
   "cell_type": "markdown",
   "metadata": {},
   "source": [
    "# apacheApsVar, apachePredVar, apachePatientResult\n",
    "\n",
    "These three tables are used to document data relating to the APACHE IV / APACHE IVa systems. These systems provide predictions for in-hospital mortality, length of stay, length of mechanical ventilation, among others. The data used to create these predictions is stored in the apacheApsVar and apachePredVar tables. The result of the predictions, along with the observed outcome, is stored in the apachePatientResult table.\n",
    "\n",
    "## History of APACHE\n",
    "\n",
    "Acute Physiology Age Chronic Health Evaluation (APACHE) consists of a groups of equations used for predicting outcomes in critically ill patients. APACHE II is based on the APS or acute physiology score (which uses 12 physiologic values), age, and chronic health status within one of 56 disease groups. APACHE II is no longer considered valid due to inadequate case mix index adjustments and over estimates mortality because it is based on models from the 1970s-1980s. APACHE III, introduced in 1991, improved the equation by changing the number and weights of the APS and revising the measurement of chronic health status. APACHE IVa further improved the equations and has been described as having the highest discrimination of any other adult risk adjustment model (SAPS 3, SOFA, MPM III).\n",
    "\n",
    "Practically, this means:\n",
    "\n",
    "1. The `acutePhysiologyScore` calculated and provided is identical to that published with APACHE III, i.e. it is the Acute Physiology Score (APS) III. There is no such thing as an APS IV.\n",
    "2. The `apacheScore` calculated and provided is identical to that published with APACHE III.\n",
    "3. The final prediction, e.g. `predictedHospitalMortality`, is the output of the APACHE IV or APACHE IVa model, respectively, and uses the `apacheScore` as an input. The `apacheScore` in turn uses the `acutePhysiologyScore` as an input.\n",
    "\n",
    "## Using the tables\n",
    "\n",
    "If you are interested in the underlying data, the apacheApsVar and apachePredVar have the physiology and other covariates which drive the APACHE predictions. These tables have one row per `patientUnitStayId`.\n",
    "\n",
    "If you are interested in the predictions and/or outcomes for the patients, the apachePatientResult table contains this data. **The apachePatientResult table contains two rows per `patientUnitStayId`**: one for APACHE IV, and one for APACHE IVa."
   ]
  },
  {
   "cell_type": "markdown",
   "metadata": {},
   "source": [
    "## apachePatientResult\n",
    "\n",
    "`physicianSpeciality` | varchar(50) | NULL | Physician Specialty picklist value |  | S\n",
    "`physicianInterventionCategory` | varchar(50) | NULL | Physician Intervention Category picklist value |  | S\n",
    "`acutePhysiologyScore` | int | NULL | Acute Physiology Score from Apache API |  | S\n",
    "`apacheScore` | int | NULL | Apache Score. Calculated from acutePhysiologyScore |  | S\n",
    "`apacheVersion` | tinyint | NOT NULL | The version of the APACHE algorithm used to produce the apacheScore (e.g 3, 4) |  | S\n",
    "`predictedICUMortality` | varchar(50) | NULL | Predicted ICU Mortality from Apache API |  | S\n",
    "`actualICUMortality` | varchar(50) | NULL | Actual ICU Mortality |  | S\n",
    "`predictedICULOS` | float(53) | NULL | Predicted ICU Length of Stay from Apache API |  | S\n",
    "`actualICULOS` | float(53) | NULL | Actual ICU Length of Stay |  | S\n",
    "`predictedHospitalMortality` | varchar(50) | NULL | Predicted Hospital Mortality from Apache API |  | S\n",
    "`actualHospitalMortality` | varchar(50) | NULL | Actual Hospital Mortality |  | S\n",
    "`predictedHospitalLOS` | float(53) | NULL | Predicted Hospital Length of Stay from Apache API |  | S\n",
    "`actualHospitalLOS` | float(53) | NULL | Actual Hospital Length of Stay. Value is 50 when when > 50 days. |  | S\n",
    "`preopMI` | int | NULL | Indicates if patient has pre –Operative Myocardial Infarction |  | S\n",
    "`preopCardiacCath` | int | NULL | Indicates if patient has pre –Operative cardiac catheterization |  | S\n",
    "`PTCAwithin24h` | int | NULL | 0/1. 1- Patient had PTCA with 24 hrs |  | S\n",
    "`unabridgedUnitLOS` | float(53) | NULL | Actual ICU Length of stay |  | S\n",
    "`unabridgedHospLOS` | float(53) | NULL | Actual Hospital Length of stay |  | S\n",
    "`actualVentdays` | float(53) | NULL | Actual Ventilation days. Value is 30 when Actual Ventilation > 30 |  | S\n",
    "`predVentdays` | float(53) | NULL | Predicted ventilation days from Apache API |  | S\n",
    "`unabridgedActualVentdays` | float(53) | NULL | Actual Ventilation days |  | S\n"
   ]
  },
  {
   "cell_type": "code",
   "execution_count": 1,
   "metadata": {},
   "outputs": [
    {
     "name": "stderr",
     "output_type": "stream",
     "text": [
      "/home/alistairewj/.local/lib/python3.5/site-packages/psycopg2/__init__.py:144: UserWarning: The psycopg2 wheel package will be renamed from release 2.8; in order to keep installing from binary please use \"pip install psycopg2-binary\" instead. For details see: <http://initd.org/psycopg/docs/install.html#binary-install-from-pypi>.\n",
      "  \"\"\")\n"
     ]
    }
   ],
   "source": [
    "# Import libraries\n",
    "import numpy as np\n",
    "import pandas as pd\n",
    "import matplotlib.pyplot as plt\n",
    "import psycopg2\n",
    "import getpass\n",
    "import pdvega\n",
    "\n",
    "# for configuring connection \n",
    "from configobj import ConfigObj\n",
    "import os\n",
    "\n",
    "%matplotlib inline"
   ]
  },
  {
   "cell_type": "code",
   "execution_count": 2,
   "metadata": {},
   "outputs": [
    {
     "name": "stdout",
     "output_type": "stream",
     "text": [
      "Database: eicu\n",
      "Username: alistairewj\n"
     ]
    }
   ],
   "source": [
    "# Create a database connection using settings from config file\n",
    "config='../db/config.ini'\n",
    "\n",
    "# connection info\n",
    "conn_info = dict()\n",
    "if os.path.isfile(config):\n",
    "    config = ConfigObj(config)\n",
    "    conn_info[\"sqluser\"] = config['username']\n",
    "    conn_info[\"sqlpass\"] = config['password']\n",
    "    conn_info[\"sqlhost\"] = config['host']\n",
    "    conn_info[\"sqlport\"] = config['port']\n",
    "    conn_info[\"dbname\"] = config['dbname']\n",
    "    conn_info[\"schema_name\"] = config['schema_name']\n",
    "else:\n",
    "    conn_info[\"sqluser\"] = 'postgres'\n",
    "    conn_info[\"sqlpass\"] = ''\n",
    "    conn_info[\"sqlhost\"] = 'localhost'\n",
    "    conn_info[\"sqlport\"] = 5432\n",
    "    conn_info[\"dbname\"] = 'eicu'\n",
    "    conn_info[\"schema_name\"] = 'public,eicu_crd'\n",
    "    \n",
    "# Connect to the eICU database\n",
    "print('Database: {}'.format(conn_info['dbname']))\n",
    "print('Username: {}'.format(conn_info[\"sqluser\"]))\n",
    "if conn_info[\"sqlpass\"] == '':\n",
    "    # try connecting without password, i.e. peer or OS authentication\n",
    "    try:\n",
    "        if (conn_info[\"sqlhost\"] == 'localhost') & (conn_info[\"sqlport\"]=='5432'):\n",
    "            con = psycopg2.connect(dbname=conn_info[\"dbname\"],\n",
    "                                   user=conn_info[\"sqluser\"])            \n",
    "        else:\n",
    "            con = psycopg2.connect(dbname=conn_info[\"dbname\"],\n",
    "                                   host=conn_info[\"sqlhost\"],\n",
    "                                   port=conn_info[\"sqlport\"],\n",
    "                                   user=conn_info[\"sqluser\"])\n",
    "    except:\n",
    "        conn_info[\"sqlpass\"] = getpass.getpass('Password: ')\n",
    "\n",
    "        con = psycopg2.connect(dbname=conn_info[\"dbname\"],\n",
    "                               host=conn_info[\"sqlhost\"],\n",
    "                               port=conn_info[\"sqlport\"],\n",
    "                               user=conn_info[\"sqluser\"],\n",
    "                               password=conn_info[\"sqlpass\"])\n",
    "query_schema = 'set search_path to ' + conn_info['schema_name'] + ';'"
   ]
  },
  {
   "cell_type": "markdown",
   "metadata": {},
   "source": [
    "## Examine a single patient"
   ]
  },
  {
   "cell_type": "code",
   "execution_count": 3,
   "metadata": {},
   "outputs": [],
   "source": [
    "patientunitstayid = 2704494"
   ]
  },
  {
   "cell_type": "code",
   "execution_count": 4,
   "metadata": {
    "scrolled": true
   },
   "outputs": [
    {
     "data": {
      "text/html": [
       "<div>\n",
       "<style scoped>\n",
       "    .dataframe tbody tr th:only-of-type {\n",
       "        vertical-align: middle;\n",
       "    }\n",
       "\n",
       "    .dataframe tbody tr th {\n",
       "        vertical-align: top;\n",
       "    }\n",
       "\n",
       "    .dataframe thead th {\n",
       "        text-align: right;\n",
       "    }\n",
       "</style>\n",
       "<table border=\"1\" class=\"dataframe\">\n",
       "  <thead>\n",
       "    <tr style=\"text-align: right;\">\n",
       "      <th></th>\n",
       "      <th>patientunitstayid</th>\n",
       "      <th>apacheapsvarid</th>\n",
       "      <th>intubated</th>\n",
       "      <th>vent</th>\n",
       "      <th>dialysis</th>\n",
       "      <th>eyes</th>\n",
       "      <th>motor</th>\n",
       "      <th>verbal</th>\n",
       "      <th>meds</th>\n",
       "      <th>urine</th>\n",
       "      <th>...</th>\n",
       "      <th>ph</th>\n",
       "      <th>hematocrit</th>\n",
       "      <th>creatinine</th>\n",
       "      <th>albumin</th>\n",
       "      <th>pao2</th>\n",
       "      <th>pco2</th>\n",
       "      <th>bun</th>\n",
       "      <th>glucose</th>\n",
       "      <th>bilirubin</th>\n",
       "      <th>fio2</th>\n",
       "    </tr>\n",
       "  </thead>\n",
       "  <tbody>\n",
       "    <tr>\n",
       "      <th>0</th>\n",
       "      <td>2704494</td>\n",
       "      <td>2305985</td>\n",
       "      <td>0</td>\n",
       "      <td>0</td>\n",
       "      <td>1</td>\n",
       "      <td>4</td>\n",
       "      <td>6</td>\n",
       "      <td>5</td>\n",
       "      <td>0</td>\n",
       "      <td>-1.0</td>\n",
       "      <td>...</td>\n",
       "      <td>-1.0</td>\n",
       "      <td>21.9</td>\n",
       "      <td>2.81</td>\n",
       "      <td>-1.0</td>\n",
       "      <td>-1.0</td>\n",
       "      <td>-1.0</td>\n",
       "      <td>70.0</td>\n",
       "      <td>119.0</td>\n",
       "      <td>-1.0</td>\n",
       "      <td>-1.0</td>\n",
       "    </tr>\n",
       "  </tbody>\n",
       "</table>\n",
       "<p>1 rows × 26 columns</p>\n",
       "</div>"
      ],
      "text/plain": [
       "   patientunitstayid  apacheapsvarid  intubated  vent  dialysis  eyes  motor  \\\n",
       "0            2704494         2305985          0     0         1     4      6   \n",
       "\n",
       "   verbal  meds  urine  ...    ph  hematocrit  creatinine  albumin  pao2  \\\n",
       "0       5     0   -1.0  ...  -1.0        21.9        2.81     -1.0  -1.0   \n",
       "\n",
       "   pco2   bun  glucose  bilirubin  fio2  \n",
       "0  -1.0  70.0    119.0       -1.0  -1.0  \n",
       "\n",
       "[1 rows x 26 columns]"
      ]
     },
     "execution_count": 4,
     "metadata": {},
     "output_type": "execute_result"
    }
   ],
   "source": [
    "query = query_schema + \"\"\"\n",
    "select *\n",
    "from apacheapsvar\n",
    "where patientunitstayid = {}\n",
    "\"\"\".format(patientunitstayid)\n",
    "\n",
    "df = pd.read_sql_query(query, con)\n",
    "df.head()"
   ]
  },
  {
   "cell_type": "markdown",
   "metadata": {},
   "source": [
    "## Missing data represented by -1"
   ]
  },
  {
   "cell_type": "markdown",
   "metadata": {},
   "source": [
    "## apacheScore present but prediction is -1"
   ]
  },
  {
   "cell_type": "markdown",
   "metadata": {},
   "source": [
    "## Ventilation flags"
   ]
  },
  {
   "cell_type": "markdown",
   "metadata": {},
   "source": [
    "## Unable to assess GCS (`meds` column)"
   ]
  },
  {
   "cell_type": "markdown",
   "metadata": {},
   "source": [
    "## Hospitals with data available"
   ]
  },
  {
   "cell_type": "code",
   "execution_count": 5,
   "metadata": {},
   "outputs": [
    {
     "data": {
      "text/html": [
       "<div>\n",
       "<style scoped>\n",
       "    .dataframe tbody tr th:only-of-type {\n",
       "        vertical-align: middle;\n",
       "    }\n",
       "\n",
       "    .dataframe tbody tr th {\n",
       "        vertical-align: top;\n",
       "    }\n",
       "\n",
       "    .dataframe thead th {\n",
       "        text-align: right;\n",
       "    }\n",
       "</style>\n",
       "<table border=\"1\" class=\"dataframe\">\n",
       "  <thead>\n",
       "    <tr style=\"text-align: right;\">\n",
       "      <th></th>\n",
       "      <th>hospitalid</th>\n",
       "      <th>number_of_patients</th>\n",
       "      <th>number_of_patients_with_tbl</th>\n",
       "      <th>data completion</th>\n",
       "    </tr>\n",
       "  </thead>\n",
       "  <tbody>\n",
       "    <tr>\n",
       "      <th>43</th>\n",
       "      <td>73</td>\n",
       "      <td>7059</td>\n",
       "      <td>5984</td>\n",
       "      <td>84.771214</td>\n",
       "    </tr>\n",
       "    <tr>\n",
       "      <th>7</th>\n",
       "      <td>264</td>\n",
       "      <td>5237</td>\n",
       "      <td>4878</td>\n",
       "      <td>93.144930</td>\n",
       "    </tr>\n",
       "    <tr>\n",
       "      <th>165</th>\n",
       "      <td>420</td>\n",
       "      <td>4679</td>\n",
       "      <td>4090</td>\n",
       "      <td>87.411840</td>\n",
       "    </tr>\n",
       "    <tr>\n",
       "      <th>156</th>\n",
       "      <td>338</td>\n",
       "      <td>4277</td>\n",
       "      <td>4079</td>\n",
       "      <td>95.370587</td>\n",
       "    </tr>\n",
       "    <tr>\n",
       "      <th>170</th>\n",
       "      <td>167</td>\n",
       "      <td>6092</td>\n",
       "      <td>3620</td>\n",
       "      <td>59.422193</td>\n",
       "    </tr>\n",
       "    <tr>\n",
       "      <th>190</th>\n",
       "      <td>458</td>\n",
       "      <td>3701</td>\n",
       "      <td>3544</td>\n",
       "      <td>95.757903</td>\n",
       "    </tr>\n",
       "    <tr>\n",
       "      <th>145</th>\n",
       "      <td>188</td>\n",
       "      <td>3601</td>\n",
       "      <td>3540</td>\n",
       "      <td>98.306026</td>\n",
       "    </tr>\n",
       "    <tr>\n",
       "      <th>189</th>\n",
       "      <td>300</td>\n",
       "      <td>3617</td>\n",
       "      <td>3518</td>\n",
       "      <td>97.262925</td>\n",
       "    </tr>\n",
       "    <tr>\n",
       "      <th>166</th>\n",
       "      <td>443</td>\n",
       "      <td>3656</td>\n",
       "      <td>3495</td>\n",
       "      <td>95.596280</td>\n",
       "    </tr>\n",
       "    <tr>\n",
       "      <th>25</th>\n",
       "      <td>208</td>\n",
       "      <td>3650</td>\n",
       "      <td>3361</td>\n",
       "      <td>92.082192</td>\n",
       "    </tr>\n",
       "  </tbody>\n",
       "</table>\n",
       "</div>"
      ],
      "text/plain": [
       "     hospitalid  number_of_patients  number_of_patients_with_tbl  \\\n",
       "43           73                7059                         5984   \n",
       "7           264                5237                         4878   \n",
       "165         420                4679                         4090   \n",
       "156         338                4277                         4079   \n",
       "170         167                6092                         3620   \n",
       "190         458                3701                         3544   \n",
       "145         188                3601                         3540   \n",
       "189         300                3617                         3518   \n",
       "166         443                3656                         3495   \n",
       "25          208                3650                         3361   \n",
       "\n",
       "     data completion  \n",
       "43         84.771214  \n",
       "7          93.144930  \n",
       "165        87.411840  \n",
       "156        95.370587  \n",
       "170        59.422193  \n",
       "190        95.757903  \n",
       "145        98.306026  \n",
       "189        97.262925  \n",
       "166        95.596280  \n",
       "25         92.082192  "
      ]
     },
     "execution_count": 5,
     "metadata": {},
     "output_type": "execute_result"
    }
   ],
   "source": [
    "query = query_schema + \"\"\"\n",
    "select \n",
    "  pt.hospitalid\n",
    "  , count(pt.patientunitstayid) as number_of_patients\n",
    "  , count(a.patientunitstayid) as number_of_patients_with_tbl\n",
    "from patient pt\n",
    "left join apacheapsvar a\n",
    "  on pt.patientunitstayid = a.patientunitstayid\n",
    "group by pt.hospitalid\n",
    "\"\"\".format(patientunitstayid)\n",
    "\n",
    "df = pd.read_sql_query(query, con)\n",
    "df['data completion'] = df['number_of_patients_with_tbl'] / df['number_of_patients'] * 100.0\n",
    "df.sort_values('number_of_patients_with_tbl', ascending=False, inplace=True)\n",
    "df.head(n=10)"
   ]
  },
  {
   "cell_type": "code",
   "execution_count": 6,
   "metadata": {},
   "outputs": [
    {
     "data": {
      "text/html": [
       "<div class=\"vega-embed\" id=\"840f1fc3-1c79-4e9d-840d-3569e5ae53a7\"></div>\n",
       "\n",
       "<style>\n",
       ".vega-embed svg, .vega-embed canvas {\n",
       "  border: 1px dotted gray;\n",
       "}\n",
       "\n",
       ".vega-embed .vega-actions a {\n",
       "  margin-right: 6px;\n",
       "}\n",
       "</style>\n"
      ]
     },
     "metadata": {
      "jupyter-vega3": "#840f1fc3-1c79-4e9d-840d-3569e5ae53a7"
     },
     "output_type": "display_data"
    },
    {
     "data": {
      "application/javascript": [
       "var spec = {\"$schema\": \"https://vega.github.io/schema/vega-lite/v2.json\", \"width\": 450, \"mark\": \"bar\", \"height\": 300, \"data\": {\"values\": [{\"Number of hospitals\": \"data completion\", \"Percent of patients with data\": 84.77121405298202}, {\"Number of hospitals\": \"data completion\", \"Percent of patients with data\": 93.14493030360894}, {\"Number of hospitals\": \"data completion\", \"Percent of patients with data\": 87.41184013678136}, {\"Number of hospitals\": \"data completion\", \"Percent of patients with data\": 95.37058685994856}, {\"Number of hospitals\": \"data completion\", \"Percent of patients with data\": 59.42219304005253}, {\"Number of hospitals\": \"data completion\", \"Percent of patients with data\": 95.75790326938666}, {\"Number of hospitals\": \"data completion\", \"Percent of patients with data\": 98.30602610386003}, {\"Number of hospitals\": \"data completion\", \"Percent of patients with data\": 97.26292507602986}, {\"Number of hospitals\": \"data completion\", \"Percent of patients with data\": 95.59628008752735}, {\"Number of hospitals\": \"data completion\", \"Percent of patients with data\": 92.08219178082192}, {\"Number of hospitals\": \"data completion\", \"Percent of patients with data\": 95.16463957282706}, {\"Number of hospitals\": \"data completion\", \"Percent of patients with data\": 68.51284468536413}, {\"Number of hospitals\": \"data completion\", \"Percent of patients with data\": 96.63379802788167}, {\"Number of hospitals\": \"data completion\", \"Percent of patients with data\": 61.96857670979667}, {\"Number of hospitals\": \"data completion\", \"Percent of patients with data\": 61.9811320754717}, {\"Number of hospitals\": \"data completion\", \"Percent of patients with data\": 91.22876333465032}, {\"Number of hospitals\": \"data completion\", \"Percent of patients with data\": 92.40978846951472}, {\"Number of hospitals\": \"data completion\", \"Percent of patients with data\": 99.00473933649289}, {\"Number of hospitals\": \"data completion\", \"Percent of patients with data\": 92.60848831664282}, {\"Number of hospitals\": \"data completion\", \"Percent of patients with data\": 62.626924336717984}, {\"Number of hospitals\": \"data completion\", \"Percent of patients with data\": 91.04908565928778}, {\"Number of hospitals\": \"data completion\", \"Percent of patients with data\": 97.21218378936499}, {\"Number of hospitals\": \"data completion\", \"Percent of patients with data\": 57.330415754923415}, {\"Number of hospitals\": \"data completion\", \"Percent of patients with data\": 63.27664005553627}, {\"Number of hospitals\": \"data completion\", \"Percent of patients with data\": 95.46681057744199}, {\"Number of hospitals\": \"data completion\", \"Percent of patients with data\": 90.0}, {\"Number of hospitals\": \"data completion\", \"Percent of patients with data\": 99.08987485779295}, {\"Number of hospitals\": \"data completion\", \"Percent of patients with data\": 94.70782800441015}, {\"Number of hospitals\": \"data completion\", \"Percent of patients with data\": 83.15998018821199}, {\"Number of hospitals\": \"data completion\", \"Percent of patients with data\": 99.22526817640048}, {\"Number of hospitals\": \"data completion\", \"Percent of patients with data\": 75.22248243559719}, {\"Number of hospitals\": \"data completion\", \"Percent of patients with data\": 89.16947250280583}, {\"Number of hospitals\": \"data completion\", \"Percent of patients with data\": 98.68421052631578}, {\"Number of hospitals\": \"data completion\", \"Percent of patients with data\": 97.13010204081633}, {\"Number of hospitals\": \"data completion\", \"Percent of patients with data\": 99.93390614672836}, {\"Number of hospitals\": \"data completion\", \"Percent of patients with data\": 53.152832205201285}, {\"Number of hospitals\": \"data completion\", \"Percent of patients with data\": 95.83057577763071}, {\"Number of hospitals\": \"data completion\", \"Percent of patients with data\": 97.03856749311295}, {\"Number of hospitals\": \"data completion\", \"Percent of patients with data\": 90.0129701686122}, {\"Number of hospitals\": \"data completion\", \"Percent of patients with data\": 65.4138915318744}, {\"Number of hospitals\": \"data completion\", \"Percent of patients with data\": 99.32735426008968}, {\"Number of hospitals\": \"data completion\", \"Percent of patients with data\": 99.46686976389947}, {\"Number of hospitals\": \"data completion\", \"Percent of patients with data\": 62.032598274209015}, {\"Number of hospitals\": \"data completion\", \"Percent of patients with data\": 60.9942638623327}, {\"Number of hospitals\": \"data completion\", \"Percent of patients with data\": 69.87951807228916}, {\"Number of hospitals\": \"data completion\", \"Percent of patients with data\": 96.37681159420289}, {\"Number of hospitals\": \"data completion\", \"Percent of patients with data\": 94.02985074626866}, {\"Number of hospitals\": \"data completion\", \"Percent of patients with data\": 62.88}, {\"Number of hospitals\": \"data completion\", \"Percent of patients with data\": 66.68574699484832}, {\"Number of hospitals\": \"data completion\", \"Percent of patients with data\": 97.78534923339012}, {\"Number of hospitals\": \"data completion\", \"Percent of patients with data\": 89.64426877470356}, {\"Number of hospitals\": \"data completion\", \"Percent of patients with data\": 99.82378854625551}, {\"Number of hospitals\": \"data completion\", \"Percent of patients with data\": 95.2020202020202}, {\"Number of hospitals\": \"data completion\", \"Percent of patients with data\": 99.72924187725631}, {\"Number of hospitals\": \"data completion\", \"Percent of patients with data\": 97.52747252747253}, {\"Number of hospitals\": \"data completion\", \"Percent of patients with data\": 82.63327948303716}, {\"Number of hospitals\": \"data completion\", \"Percent of patients with data\": 99.8991935483871}, {\"Number of hospitals\": \"data completion\", \"Percent of patients with data\": 96.57869012707722}, {\"Number of hospitals\": \"data completion\", \"Percent of patients with data\": 93.45971563981043}, {\"Number of hospitals\": \"data completion\", \"Percent of patients with data\": 99.89837398373984}, {\"Number of hospitals\": \"data completion\", \"Percent of patients with data\": 99.79402677651905}, {\"Number of hospitals\": \"data completion\", \"Percent of patients with data\": 95.82484725050917}, {\"Number of hospitals\": \"data completion\", \"Percent of patients with data\": 97.67687434002113}, {\"Number of hospitals\": \"data completion\", \"Percent of patients with data\": 86.41049671977507}, {\"Number of hospitals\": \"data completion\", \"Percent of patients with data\": 79.37062937062937}, {\"Number of hospitals\": \"data completion\", \"Percent of patients with data\": 97.19827586206897}, {\"Number of hospitals\": \"data completion\", \"Percent of patients with data\": 99.88558352402745}, {\"Number of hospitals\": \"data completion\", \"Percent of patients with data\": 92.48618784530387}, {\"Number of hospitals\": \"data completion\", \"Percent of patients with data\": 51.36476426799007}, {\"Number of hospitals\": \"data completion\", \"Percent of patients with data\": 80.2154750244858}, {\"Number of hospitals\": \"data completion\", \"Percent of patients with data\": 98.0722891566265}, {\"Number of hospitals\": \"data completion\", \"Percent of patients with data\": 98.29476248477467}, {\"Number of hospitals\": \"data completion\", \"Percent of patients with data\": 78.64271457085829}, {\"Number of hospitals\": \"data completion\", \"Percent of patients with data\": 97.10526315789474}, {\"Number of hospitals\": \"data completion\", \"Percent of patients with data\": 98.65410497981158}, {\"Number of hospitals\": \"data completion\", \"Percent of patients with data\": 97.4496644295302}, {\"Number of hospitals\": \"data completion\", \"Percent of patients with data\": 100.0}, {\"Number of hospitals\": \"data completion\", \"Percent of patients with data\": 98.34710743801654}, {\"Number of hospitals\": \"data completion\", \"Percent of patients with data\": 97.66162310866575}, {\"Number of hospitals\": \"data completion\", \"Percent of patients with data\": 99.71910112359551}, {\"Number of hospitals\": \"data completion\", \"Percent of patients with data\": 99.42446043165467}, {\"Number of hospitals\": \"data completion\", \"Percent of patients with data\": 50.50270688321732}, {\"Number of hospitals\": \"data completion\", \"Percent of patients with data\": 99.08814589665653}, {\"Number of hospitals\": \"data completion\", \"Percent of patients with data\": 93.19826338639653}, {\"Number of hospitals\": \"data completion\", \"Percent of patients with data\": 98.12206572769952}, {\"Number of hospitals\": \"data completion\", \"Percent of patients with data\": 98.72}, {\"Number of hospitals\": \"data completion\", \"Percent of patients with data\": 100.0}, {\"Number of hospitals\": \"data completion\", \"Percent of patients with data\": 99.66216216216216}, {\"Number of hospitals\": \"data completion\", \"Percent of patients with data\": 99.65928449744463}, {\"Number of hospitals\": \"data completion\", \"Percent of patients with data\": 98.29351535836177}, {\"Number of hospitals\": \"data completion\", \"Percent of patients with data\": 67.33021077283372}, {\"Number of hospitals\": \"data completion\", \"Percent of patients with data\": 99.82608695652175}, {\"Number of hospitals\": \"data completion\", \"Percent of patients with data\": 100.0}, {\"Number of hospitals\": \"data completion\", \"Percent of patients with data\": 97.7815699658703}, {\"Number of hospitals\": \"data completion\", \"Percent of patients with data\": 95.58573853989813}, {\"Number of hospitals\": \"data completion\", \"Percent of patients with data\": 99.11816578483244}, {\"Number of hospitals\": \"data completion\", \"Percent of patients with data\": 99.45255474452554}, {\"Number of hospitals\": \"data completion\", \"Percent of patients with data\": 99.81412639405205}, {\"Number of hospitals\": \"data completion\", \"Percent of patients with data\": 100.0}, {\"Number of hospitals\": \"data completion\", \"Percent of patients with data\": 81.30990415335462}, {\"Number of hospitals\": \"data completion\", \"Percent of patients with data\": 72.54335260115607}, {\"Number of hospitals\": \"data completion\", \"Percent of patients with data\": 99.8003992015968}, {\"Number of hospitals\": \"data completion\", \"Percent of patients with data\": 71.16212338593975}, {\"Number of hospitals\": \"data completion\", \"Percent of patients with data\": 99.79423868312757}, {\"Number of hospitals\": \"data completion\", \"Percent of patients with data\": 96.35627530364373}, {\"Number of hospitals\": \"data completion\", \"Percent of patients with data\": 79.9660441426146}, {\"Number of hospitals\": \"data completion\", \"Percent of patients with data\": 99.78448275862068}, {\"Number of hospitals\": \"data completion\", \"Percent of patients with data\": 98.90590809628009}, {\"Number of hospitals\": \"data completion\", \"Percent of patients with data\": 100.0}, {\"Number of hospitals\": \"data completion\", \"Percent of patients with data\": 58.09128630705395}, {\"Number of hospitals\": \"data completion\", \"Percent of patients with data\": 47.88732394366197}, {\"Number of hospitals\": \"data completion\", \"Percent of patients with data\": 100.0}, {\"Number of hospitals\": \"data completion\", \"Percent of patients with data\": 97.3365617433414}, {\"Number of hospitals\": \"data completion\", \"Percent of patients with data\": 97.5669099756691}, {\"Number of hospitals\": \"data completion\", \"Percent of patients with data\": 97.54901960784314}, {\"Number of hospitals\": \"data completion\", \"Percent of patients with data\": 96.08801955990221}, {\"Number of hospitals\": \"data completion\", \"Percent of patients with data\": 99.2084432717678}, {\"Number of hospitals\": \"data completion\", \"Percent of patients with data\": 96.83377308707124}, {\"Number of hospitals\": \"data completion\", \"Percent of patients with data\": 99.1825613079019}, {\"Number of hospitals\": \"data completion\", \"Percent of patients with data\": 99.44444444444444}, {\"Number of hospitals\": \"data completion\", \"Percent of patients with data\": 99.72067039106145}, {\"Number of hospitals\": \"data completion\", \"Percent of patients with data\": 92.85714285714286}, {\"Number of hospitals\": \"data completion\", \"Percent of patients with data\": 92.76139410187668}, {\"Number of hospitals\": \"data completion\", \"Percent of patients with data\": 97.45762711864407}, {\"Number of hospitals\": \"data completion\", \"Percent of patients with data\": 99.71098265895954}, {\"Number of hospitals\": \"data completion\", \"Percent of patients with data\": 68.34677419354838}, {\"Number of hospitals\": \"data completion\", \"Percent of patients with data\": 96.27507163323781}, {\"Number of hospitals\": \"data completion\", \"Percent of patients with data\": 94.10112359550563}, {\"Number of hospitals\": \"data completion\", \"Percent of patients with data\": 99.69604863221885}, {\"Number of hospitals\": \"data completion\", \"Percent of patients with data\": 100.0}, {\"Number of hospitals\": \"data completion\", \"Percent of patients with data\": 69.21397379912663}, {\"Number of hospitals\": \"data completion\", \"Percent of patients with data\": 96.34146341463415}, {\"Number of hospitals\": \"data completion\", \"Percent of patients with data\": 98.42271293375394}, {\"Number of hospitals\": \"data completion\", \"Percent of patients with data\": 54.37062937062937}, {\"Number of hospitals\": \"data completion\", \"Percent of patients with data\": 99.67320261437908}, {\"Number of hospitals\": \"data completion\", \"Percent of patients with data\": 98.05825242718447}, {\"Number of hospitals\": \"data completion\", \"Percent of patients with data\": 98.37662337662337}, {\"Number of hospitals\": \"data completion\", \"Percent of patients with data\": 93.37748344370861}, {\"Number of hospitals\": \"data completion\", \"Percent of patients with data\": 97.55244755244755}, {\"Number of hospitals\": \"data completion\", \"Percent of patients with data\": 100.0}, {\"Number of hospitals\": \"data completion\", \"Percent of patients with data\": 100.0}, {\"Number of hospitals\": \"data completion\", \"Percent of patients with data\": 98.4375}, {\"Number of hospitals\": \"data completion\", \"Percent of patients with data\": 78.50467289719626}, {\"Number of hospitals\": \"data completion\", \"Percent of patients with data\": 47.04761904761905}, {\"Number of hospitals\": \"data completion\", \"Percent of patients with data\": 96.3265306122449}, {\"Number of hospitals\": \"data completion\", \"Percent of patients with data\": 72.61538461538461}, {\"Number of hospitals\": \"data completion\", \"Percent of patients with data\": 47.16599190283401}, {\"Number of hospitals\": \"data completion\", \"Percent of patients with data\": 93.52226720647774}, {\"Number of hospitals\": \"data completion\", \"Percent of patients with data\": 33.82352941176471}, {\"Number of hospitals\": \"data completion\", \"Percent of patients with data\": 96.99570815450643}, {\"Number of hospitals\": \"data completion\", \"Percent of patients with data\": 88.23529411764706}, {\"Number of hospitals\": \"data completion\", \"Percent of patients with data\": 98.68421052631578}, {\"Number of hospitals\": \"data completion\", \"Percent of patients with data\": 98.66666666666667}, {\"Number of hospitals\": \"data completion\", \"Percent of patients with data\": 100.0}, {\"Number of hospitals\": \"data completion\", \"Percent of patients with data\": 100.0}, {\"Number of hospitals\": \"data completion\", \"Percent of patients with data\": 99.53488372093024}, {\"Number of hospitals\": \"data completion\", \"Percent of patients with data\": 99.52380952380952}, {\"Number of hospitals\": \"data completion\", \"Percent of patients with data\": 96.96969696969697}, {\"Number of hospitals\": \"data completion\", \"Percent of patients with data\": 97.40932642487047}, {\"Number of hospitals\": \"data completion\", \"Percent of patients with data\": 77.25321888412017}, {\"Number of hospitals\": \"data completion\", \"Percent of patients with data\": 98.29545454545455}, {\"Number of hospitals\": \"data completion\", \"Percent of patients with data\": 100.0}, {\"Number of hospitals\": \"data completion\", \"Percent of patients with data\": 99.375}, {\"Number of hospitals\": \"data completion\", \"Percent of patients with data\": 68.63636363636364}, {\"Number of hospitals\": \"data completion\", \"Percent of patients with data\": 98.01324503311258}, {\"Number of hospitals\": \"data completion\", \"Percent of patients with data\": 97.91666666666666}, {\"Number of hospitals\": \"data completion\", \"Percent of patients with data\": 99.26470588235294}, {\"Number of hospitals\": \"data completion\", \"Percent of patients with data\": 74.01129943502825}, {\"Number of hospitals\": \"data completion\", \"Percent of patients with data\": 100.0}, {\"Number of hospitals\": \"data completion\", \"Percent of patients with data\": 98.38709677419355}, {\"Number of hospitals\": \"data completion\", \"Percent of patients with data\": 32.020997375328086}, {\"Number of hospitals\": \"data completion\", \"Percent of patients with data\": 92.36641221374046}, {\"Number of hospitals\": \"data completion\", \"Percent of patients with data\": 88.52459016393442}, {\"Number of hospitals\": \"data completion\", \"Percent of patients with data\": 95.4954954954955}, {\"Number of hospitals\": \"data completion\", \"Percent of patients with data\": 100.0}, {\"Number of hospitals\": \"data completion\", \"Percent of patients with data\": 61.06870229007634}, {\"Number of hospitals\": \"data completion\", \"Percent of patients with data\": 100.0}, {\"Number of hospitals\": \"data completion\", \"Percent of patients with data\": 98.57142857142858}, {\"Number of hospitals\": \"data completion\", \"Percent of patients with data\": 95.45454545454545}, {\"Number of hospitals\": \"data completion\", \"Percent of patients with data\": 100.0}, {\"Number of hospitals\": \"data completion\", \"Percent of patients with data\": 100.0}, {\"Number of hospitals\": \"data completion\", \"Percent of patients with data\": 98.36065573770492}, {\"Number of hospitals\": \"data completion\", \"Percent of patients with data\": 100.0}, {\"Number of hospitals\": \"data completion\", \"Percent of patients with data\": 74.28571428571429}, {\"Number of hospitals\": \"data completion\", \"Percent of patients with data\": 98.11320754716981}, {\"Number of hospitals\": \"data completion\", \"Percent of patients with data\": 92.5925925925926}, {\"Number of hospitals\": \"data completion\", \"Percent of patients with data\": 72.72727272727273}, {\"Number of hospitals\": \"data completion\", \"Percent of patients with data\": 100.0}, {\"Number of hospitals\": \"data completion\", \"Percent of patients with data\": 100.0}, {\"Number of hospitals\": \"data completion\", \"Percent of patients with data\": 100.0}, {\"Number of hospitals\": \"data completion\", \"Percent of patients with data\": 100.0}, {\"Number of hospitals\": \"data completion\", \"Percent of patients with data\": 96.7741935483871}, {\"Number of hospitals\": \"data completion\", \"Percent of patients with data\": 96.29629629629629}, {\"Number of hospitals\": \"data completion\", \"Percent of patients with data\": 100.0}, {\"Number of hospitals\": \"data completion\", \"Percent of patients with data\": 100.0}, {\"Number of hospitals\": \"data completion\", \"Percent of patients with data\": 51.515151515151516}, {\"Number of hospitals\": \"data completion\", \"Percent of patients with data\": 80.0}, {\"Number of hospitals\": \"data completion\", \"Percent of patients with data\": 100.0}, {\"Number of hospitals\": \"data completion\", \"Percent of patients with data\": 100.0}, {\"Number of hospitals\": \"data completion\", \"Percent of patients with data\": 60.86956521739131}, {\"Number of hospitals\": \"data completion\", \"Percent of patients with data\": 93.33333333333333}, {\"Number of hospitals\": \"data completion\", \"Percent of patients with data\": 92.3076923076923}, {\"Number of hospitals\": \"data completion\", \"Percent of patients with data\": 14.814814814814813}, {\"Number of hospitals\": \"data completion\", \"Percent of patients with data\": 100.0}, {\"Number of hospitals\": \"data completion\", \"Percent of patients with data\": 100.0}, {\"Number of hospitals\": \"data completion\", \"Percent of patients with data\": 100.0}, {\"Number of hospitals\": \"data completion\", \"Percent of patients with data\": 21.428571428571427}, {\"Number of hospitals\": \"data completion\", \"Percent of patients with data\": 66.66666666666666}]}, \"encoding\": {\"y\": {\"aggregate\": \"count\", \"stack\": null, \"type\": \"quantitative\"}, \"x\": {\"bin\": {\"maxbins\": 10}, \"field\": \"Percent of patients with data\", \"type\": \"quantitative\"}, \"color\": {\"field\": \"Number of hospitals\", \"type\": \"nominal\"}}, \"selection\": {\"grid\": {\"bind\": \"scales\", \"type\": \"interval\"}}};\n",
       "var selector = \"#840f1fc3-1c79-4e9d-840d-3569e5ae53a7\";\n",
       "var type = \"vega-lite\";\n",
       "\n",
       "var output_area = this;\n",
       "require(['nbextensions/jupyter-vega3/index'], function(vega) {\n",
       "  vega.render(selector, spec, type, output_area);\n",
       "}, function (err) {\n",
       "  if (err.requireType !== 'scripterror') {\n",
       "    throw(err);\n",
       "  }\n",
       "});\n"
      ]
     },
     "metadata": {
      "jupyter-vega3": "#840f1fc3-1c79-4e9d-840d-3569e5ae53a7"
     },
     "output_type": "display_data"
    },
    {
     "data": {
      "image/png": "[encoded data removed]"
     },
     "metadata": {
      "jupyter-vega3": "#840f1fc3-1c79-4e9d-840d-3569e5ae53a7"
     },
     "output_type": "display_data"
    }
   ],
   "source": [
    "df[['data completion']].vgplot.hist(bins=10,\n",
    "                                    var_name='Number of hospitals',\n",
    "                                    value_name='Percent of patients with data')"
   ]
  },
  {
   "cell_type": "markdown",
   "metadata": {},
   "source": [
    "As we can see, the majority of hospitals collect APACHE data."
   ]
  }
 ],
 "metadata": {
  "front-matter": {
   "date": "2015-09-01",
   "linktitle": "admissiondrug",
   "title": "admissiondrug"
  },
  "kernelspec": {
   "display_name": "Python 3",
   "language": "python",
   "name": "python3"
  },
  "language_info": {
   "codemirror_mode": {
    "name": "ipython",
    "version": 3
   },
   "file_extension": ".py",
   "mimetype": "text/x-python",
   "name": "python",
   "nbconvert_exporter": "python",
   "pygments_lexer": "ipython3",
   "version": "3.5.2"
  }
 },
 "nbformat": 4,
 "nbformat_minor": 2
}
