{
 "cells": [
  {
   "cell_type": "markdown",
   "id": "d21d0609",
   "metadata": {
    "tags": []
   },
   "source": [
    "# Intro\n",
    "\n",
    "### 1. What this dataset is:\n",
    "\n",
    "This dataset contains scRNA-seq measurements from peripheral blood mononuclear cells (PBMCs) from 8 samples from COVID-19 patients and 6 healthy controls.\n",
    "\n",
    "\n",
    "### 2. Where the data comes from:\n",
    "\n",
    "This data was collected as part of [A single-cell atlas of the peripheral immune response in patients with severe COVID-19 (Wilk et al., 2020)](https://www.nature.com/articles/s41591-020-0944-y) and was deposited in the NIH gene expression omnibus as `GSE150728`.\n",
    "\n",
    "### 3. Why this data might be useful:\n",
    "\n",
    "This data could potentially be useful in understanding which genes/pathways are involved in COVID-19."
   ]
  },
  {
   "cell_type": "markdown",
   "id": "19c684c0",
   "metadata": {},
   "source": [
    "### First, we download the data from the from the Chan-Zuckerberg Biohub\n",
    "\n",
    "The authors posted a richly annotated version of their data to the Chan-Zuckerberg Biohub's scRNA-seq data repository. Unfortunately, the CZ Biohub repository doesn't allow for automated downloads; please head to [this link](https://cellxgene.cziscience.com/collections/a72afd53-ab92-4511-88da-252fb0e26b9a), hit the download button (the cloud near the bottom right), choose the `h5ad` option, and place the resulting file in the same directory as this notebook before continuing"
   ]
  },
  {
   "cell_type": "markdown",
   "id": "1a001a51",
   "metadata": {
    "tags": []
   },
   "source": [
    "### Next, we read in the files and begin preprocessing\n",
    "\n",
    "To read our data, we'll use the [scanpy](https://scanpy.readthedocs.io/en/stable/) library, a popular Python library for interacting with and preprocessing scRNA-seq data."
   ]
  },
  {
   "cell_type": "code",
   "execution_count": null,
   "id": "ae7f7467",
   "metadata": {},
   "outputs": [],
   "source": [
    "import scanpy as sc\n",
    "\n",
    "file_name = './local.h5ad'\n",
    "adata = sc.read_h5ad(file_name)"
   ]
  },
  {
   "cell_type": "markdown",
   "id": "bf4608bb",
   "metadata": {},
   "source": [
    "The data was originally stored with each gene being a column and each cell being a row."
   ]
  },
  {
   "cell_type": "markdown",
   "id": "9fec5c45",
   "metadata": {},
   "source": [
    "Now lets take a quick look at our metadata to see what information we're given. To do so, we'll take a look at the `obs` field of our `scanpy` object. The dataframe is quite wide, so you might need to scroll to the right to see all the columns. The strings of letters on the left are labels for each cell - feel free to ignore these strings and relabel the rows however you see fit. Finally, if you have any questions about what the metadata columns need please refer to the paper linked above or reach out to the TAs."
   ]
  },
  {
   "cell_type": "code",
   "execution_count": null,
   "id": "d46ede5b",
   "metadata": {},
   "outputs": [],
   "source": [
    "adata.obs.head()"
   ]
  },
  {
   "cell_type": "markdown",
   "id": "00d5e74a",
   "metadata": {},
   "source": [
    "Now we'll perform some standard preprocessing steps on our scRNA-seq data. First, we'll normalize the data so that count numbers are comparable across cells, log-transform the resulting normalized counts, and then select the 2,000 most variable genes. To do so, we'll use functions from `scanpy`, a popular Python library for handling scRNA-seq data."
   ]
  },
  {
   "cell_type": "code",
   "execution_count": null,
   "id": "7c9e5da7",
   "metadata": {},
   "outputs": [],
   "source": [
    "import scanpy as sc\n",
    "from anndata import AnnData\n",
    "\n",
    "sc.pp.normalize_total(adata, 1e4)\n",
    "sc.pp.log1p(adata)\n",
    "sc.pp.highly_variable_genes(adata, n_top_genes=2000)\n",
    "\n",
    "adata = adata[:, adata.var.highly_variable] # Subset our dataframe to only the highly variable genes"
   ]
  },
  {
   "cell_type": "markdown",
   "id": "0871d99a",
   "metadata": {},
   "source": [
    "To confirm that our preprocessed data looks reasonable before saving it, we'll use the UMAP algorithm to visualize it in 2D."
   ]
  },
  {
   "cell_type": "code",
   "execution_count": null,
   "id": "012d56ae",
   "metadata": {
    "tags": []
   },
   "outputs": [],
   "source": [
    "sc.pp.neighbors(adata)\n",
    "sc.tl.umap(adata)\n",
    "sc.pl.umap(adata, color=['disease', 'cell_type'], wspace=0.3)"
   ]
  },
  {
   "cell_type": "markdown",
   "id": "c36a3220",
   "metadata": {},
   "source": [
    "Our UMAP plots look sensible (e.g. we see good separation between cell types), so we'll proceed with saving the final version."
   ]
  },
  {
   "cell_type": "code",
   "execution_count": null,
   "id": "d66c4c99",
   "metadata": {},
   "outputs": [],
   "source": [
    "import pandas as pd\n",
    "\n",
    "df = pd.DataFrame(adata.X)\n",
    "metadata_df = adata.obs\n",
    "\n",
    "df.to_csv('./preprocessed_data.csv')\n",
    "metadata_df.to_csv('./metadata.csv')"
   ]
  }
 ],
 "metadata": {
  "kernelspec": {
   "display_name": "Python 3",
   "language": "python",
   "name": "python3"
  },
  "language_info": {
   "codemirror_mode": {
    "name": "ipython",
    "version": 3
   },
   "file_extension": ".py",
   "mimetype": "text/x-python",
   "name": "python",
   "nbconvert_exporter": "python",
   "pygments_lexer": "ipython3",
   "version": "3.9.4"
  }
 },
 "nbformat": 4,
 "nbformat_minor": 5
}
