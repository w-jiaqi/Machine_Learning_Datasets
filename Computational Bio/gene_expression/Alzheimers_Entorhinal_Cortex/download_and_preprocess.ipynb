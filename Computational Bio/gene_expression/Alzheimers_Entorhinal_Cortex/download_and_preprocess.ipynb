{
 "cells": [
  {
   "cell_type": "markdown",
   "id": "d21d0609",
   "metadata": {
    "tags": []
   },
   "source": [
    "# Intro\n",
    "\n",
    "### 1. What this dataset is:\n",
    "\n",
    "This dataset contains scRNA-seq measurements taken from entorhinal cortex samples from control and Alzheimer’s disease brains (`n=6` per group).\n",
    "Cells are labeled with cell type information as well as patient condition (i.e., healthy or with Alzheimer's).\n",
    "\n",
    "\n",
    "### 2. Where the data comes from:\n",
    "\n",
    "This data was collected as part of [A single-cell atlas of entorhinal cortex from individuals with Alzheimer’s disease reveals cell-type-specific gene expression regulation (Grubman et al., 2019)](https://www.nature.com/articles/s41593-019-0539-4) and was deposited in the NIH gene expression omnibus as `GSE138852`.\n",
    "\n",
    "### 3. Why this data might be useful:\n",
    "\n",
    "This data could potentially be useful in understanding which genes/pathways are involved in Alzheimer's disease. As of this writing, there do not appear to be any computational papers making use of this data."
   ]
  },
  {
   "cell_type": "markdown",
   "id": "19c684c0",
   "metadata": {},
   "source": [
    "### First, we download the data from the NIH Gene Expression Omnibus"
   ]
  },
  {
   "cell_type": "code",
   "execution_count": null,
   "id": "669a7659",
   "metadata": {},
   "outputs": [],
   "source": [
    "import requests\n",
    "\n",
    "print('Downloading data')\n",
    "\n",
    "data_url = 'https://www.ncbi.nlm.nih.gov/geo/download/?acc=GSE138852&format=file&file=GSE138852%5Fcounts%2Ecsv%2Egz'\n",
    "metadata_url = 'http://adsn.ddnetbio.com/session/cd8292b94d697e88ec03bb7ca3dc6bda/download/scRNA_metadata?w='\n",
    "metadata_description_url = 'http://adsn.ddnetbio.com/session/cd8292b94d697e88ec03bb7ca3dc6bda/download/scRNA_metaDesc?w='\n",
    "\n",
    "compressed_data_file_name = './GSE138852_counts.csv.gz'\n",
    "metadata_file_name = './scRNA_metadata.tsv'\n",
    "metadata_description_file_name = './scRNA_metadata_description.tsv'\n",
    "\n",
    "r = requests.get(data_url)\n",
    "with open(compressed_data_file_name, 'wb') as f:\n",
    "    f.write(r.content)\n",
    "    \n",
    "print(\"Data successfully written to disk\")"
   ]
  },
  {
   "cell_type": "markdown",
   "id": "0c37a75b-097c-40d0-b93b-bf9d5ba46452",
   "metadata": {},
   "source": [
    "### Next, we'll grab the metadata from the authors' website.\n",
    "\n",
    "Unfortunately, the authors made it difficult to download the files using code (possibly to prevent their servers from being spammed). Before we proceed, please manually download the files by going to http://adsn.ddnetbio.com/, clicking on the \"Data Download\" and then \"Metadata and Gene Expression\" tabs. You'll then want to hit the \"Download single-cell Metadata\" and \"Description for single-cell metadata\" buttons.\n",
    "\n",
    "One the files are downloaded, place them in the same directory as this notebook and then continue."
   ]
  },
  {
   "cell_type": "markdown",
   "id": "1a001a51",
   "metadata": {
    "tags": []
   },
   "source": [
    "### Next, we read in the files and begin preprocessing\n",
    "\n",
    "(This may take a couple minutes since the files are pretty big)"
   ]
  },
  {
   "cell_type": "code",
   "execution_count": null,
   "id": "ae7f7467",
   "metadata": {},
   "outputs": [],
   "source": [
    "import gzip\n",
    "import pandas as pd\n",
    "\n",
    "with gzip.open(compressed_data_file_name, 'rb') as f:\n",
    "    data_df = pd.read_csv(f, index_col=0)\n",
    "    \n",
    "with open(metadata_file_name, 'rb') as f:\n",
    "    metadata_df = pd.read_csv(f, index_col=0, sep='\\t')\n",
    "    \n",
    "with open(metadata_description_file_name, 'rb') as f:\n",
    "    metadata_description_df = pd.read_csv(f, index_col=0, sep='\\t')"
   ]
  },
  {
   "cell_type": "markdown",
   "id": "bf4608bb",
   "metadata": {},
   "source": [
    "The data was originally stored with each gene being a row and each cell being a column. We'll transpose our data matrix to have a more standard arrangement of rows being samples and features being columns"
   ]
  },
  {
   "cell_type": "code",
   "execution_count": null,
   "id": "90aebd75",
   "metadata": {},
   "outputs": [],
   "source": [
    "data_df = data_df.transpose()"
   ]
  },
  {
   "cell_type": "markdown",
   "id": "9fec5c45",
   "metadata": {},
   "source": [
    "We'll also take a quick look at our metadata to see what information we're given. The strings of letters on the left are cellular barcodes - short strings of DNA used to identify a specific cell. Feel free to ignore these strings and relabel the rows however you see fit."
   ]
  },
  {
   "cell_type": "code",
   "execution_count": null,
   "id": "d46ede5b",
   "metadata": {},
   "outputs": [],
   "source": [
    "metadata_df.head()"
   ]
  },
  {
   "cell_type": "markdown",
   "id": "40a9e5df",
   "metadata": {},
   "source": [
    "Now, what exactly do the column names here mean? For that, we'll turn to the metadata description file provided by the authors"
   ]
  },
  {
   "cell_type": "code",
   "execution_count": null,
   "id": "0198b2ea",
   "metadata": {},
   "outputs": [],
   "source": [
    "metadata_description_df"
   ]
  },
  {
   "cell_type": "markdown",
   "id": "00d5e74a",
   "metadata": {},
   "source": [
    "Now we'll perform some standard preprocessing steps on our scRNA-seq data. First, we'll normalize the data so that count numbers are comparable across cells, log-transform the resulting normalized counts, and then select the 2,000 most variable genes. To do so, we'll use functions from `scanpy`, a popular Python library for handling scRNA-seq data."
   ]
  },
  {
   "cell_type": "code",
   "execution_count": null,
   "id": "7c9e5da7",
   "metadata": {},
   "outputs": [],
   "source": [
    "import scanpy as sc\n",
    "from anndata import AnnData\n",
    "\n",
    "adata = AnnData(X = data_df.values, obs=metadata_df) # The annotated dataframe (AnnData) is a wrapper class used by scanpy for most of its functions.\n",
    "sc.pp.normalize_total(adata, 1e4)\n",
    "sc.pp.log1p(adata)\n",
    "sc.pp.highly_variable_genes(adata, n_top_genes=2000)\n",
    "\n",
    "adata = adata[:, adata.var.highly_variable] # Subset our dataframe to only the highly variable genes"
   ]
  },
  {
   "cell_type": "markdown",
   "id": "0871d99a",
   "metadata": {},
   "source": [
    "To confirm that our preprocessed data looks reasonable before saving it, we'll use the UMAP algorithm to visualize it in 2D."
   ]
  },
  {
   "cell_type": "code",
   "execution_count": null,
   "id": "012d56ae",
   "metadata": {
    "tags": []
   },
   "outputs": [],
   "source": [
    "sc.pp.neighbors(adata)\n",
    "sc.tl.umap(adata)\n",
    "sc.pl.umap(adata, color=['batchCond', 'cellType'], wspace=0.3)"
   ]
  },
  {
   "cell_type": "markdown",
   "id": "c36a3220",
   "metadata": {},
   "source": [
    "Our UMAP plots look sensible (e.g. we see good separation between cell types and disease state), so we'll proceed with saving the final version."
   ]
  },
  {
   "cell_type": "code",
   "execution_count": null,
   "id": "d66c4c99",
   "metadata": {},
   "outputs": [],
   "source": [
    "df = pd.DataFrame(adata.X)\n",
    "\n",
    "df.to_csv('./preprocessed_data.csv')\n",
    "metadata_df.to_csv('./metadata.csv')"
   ]
  }
 ],
 "metadata": {
  "kernelspec": {
   "display_name": "Python 3",
   "language": "python",
   "name": "python3"
  },
  "language_info": {
   "codemirror_mode": {
    "name": "ipython",
    "version": 3
   },
   "file_extension": ".py",
   "mimetype": "text/x-python",
   "name": "python",
   "nbconvert_exporter": "python",
   "pygments_lexer": "ipython3",
   "version": "3.9.4"
  }
 },
 "nbformat": 4,
 "nbformat_minor": 5
}
